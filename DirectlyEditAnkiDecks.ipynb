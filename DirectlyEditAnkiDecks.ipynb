{
 "cells": [
  {
   "cell_type": "code",
   "execution_count": 2,
   "id": "81eab754",
   "metadata": {},
   "outputs": [],
   "source": [
    "from zipfile import ZipFile\n",
    "import shutil\n",
    "import os\n",
    "\n",
    "apkg_file = \"pleco_imported.apkg\"\n",
    "experiement_folder = r\"pleco_imported_direct_sqlite_apkg\"\n",
    "\n",
    "if os.path.isdir(experiement_folder):\n",
    "    shutil.rmtree(experiement_folder)\n",
    " \n",
    "\n",
    "with ZipFile(apkg_file) as zf:\n",
    "    zf.extractall(experiement_folder)"
   ]
  },
  {
   "cell_type": "code",
   "execution_count": 4,
   "id": "69f2fbba",
   "metadata": {},
   "outputs": [],
   "source": [
    "import sqlite3"
   ]
  },
  {
   "cell_type": "code",
   "execution_count": 7,
   "id": "b5eec549",
   "metadata": {},
   "outputs": [],
   "source": [
    "con = sqlite3.connect(f\"{experiement_folder}\\\\collection.anki2\")"
   ]
  },
  {
   "cell_type": "code",
   "execution_count": 8,
   "id": "3382aafb",
   "metadata": {},
   "outputs": [],
   "source": [
    "cur = con.cursor()"
   ]
  },
  {
   "cell_type": "code",
   "execution_count": 11,
   "id": "559b6464",
   "metadata": {},
   "outputs": [
    {
     "name": "stdout",
     "output_type": "stream",
     "text": [
      "(1670388896285, '5|qT2', 1669412005070, 1670426113, 573, ' hsk_level_1 ', '愛\\x1f<div align=\"left\"><p><span style=\"font-size:32px\";>&#24859;&#12308;&#29233;&#12309;</span><br>\\n<span style=\"color:#B4B4B4;\"><b><span style=\"font-size:0.80em;\">PY </span></b></span><span style=\"color:#DF80FF;\"><span style=\"font-weight:600;\">&#224;i</span></span></p>\\n</div><div align=\"left\"><p><b><span style=\"font-size:0.80em;\"><span style=\"color:#B4B4B4;\">NOUN</span></span></b><br>\\nlove; affection<br>\\n</p>\\n<blockquote style=\"border-left: 2px solid #00aaff; margin-left: 3px; padding-left: 1em; margin-top: 0px; margin-bottom: 0px;\"><p><span style=\"color:#00AAFF;\">&#27597;</span><span style=\"color:#00AAFF;\"><b>&#24859;</b></span><br>\\n<span style=\"font-weight:600;\">m&#468;\\'</span><b>&#224;i</b><br>\\nmaternal love<br>\\n</p>\\n</blockquote>\\n<blockquote style=\"border-left: 2px solid #00aaff; margin-left: 3px; padding-left: 1em; margin-top: 0px; margin-bottom: 0px;\"><p><span style=\"color:#00AAFF;\">&#29238;</span><span style=\"color:#00AAFF;\"><b>&#24859;</b></span><br>\\n<span style=\"font-weight:600;\">f&#249;\\'</span><b>&#224;i</b><br>\\npaternal love<br>\\n</p>\\n</blockquote>\\n<blockquote style=\"border-left: 2px solid #00aaff; margin-left: 3px; padding-left: 1em; margin-top: 0px; margin-bottom: 0px;\"><p><span style=\"color:#00AAFF;\">&#22827;&#22971;&#20043;</span><span style=\"color:#00AAFF;\"><b>&#24859;</b></span><br>\\n<span style=\"font-weight:600;\">f&#363;q&#299; zh&#299; </span><b>&#224;i</b><br>\\nconjugal love<br>\\n</p>\\n</blockquote>\\n<blockquote style=\"border-left: 2px solid #00aaff; margin-left: 3px; padding-left: 1em; margin-top: 0px; margin-bottom: 0px;\"><p><span style=\"color:#00AAFF;\">&#29378;&#29105;&#30340;</span><span style=\"color:#00AAFF;\"><b>&#24859;</b></span><br>\\n<span style=\"font-weight:600;\">ku&#225;ngr&#232; de\\'</span><b>&#224;i</b><br>\\nwild love; madly in love<br>\\n</p>\\n</blockquote>\\n<blockquote style=\"border-left: 2px solid #00aaff; margin-left: 3px; padding-left: 1em; margin-top: 0px; margin-bottom: 0px;\"><p><span style=\"color:#00AAFF;\">&#25226;</span><span style=\"color:#00AAFF;\"><b>&#24859;</b></span><span style=\"color:#00AAFF;\">&#20670;&#27880;&#22312;&#23401;&#23376;&#36523;&#19978;</span><br>\\n<span style=\"font-weight:600;\">b&#462; </span><b>&#224;i</b><span style=\"font-weight:600;\"> q&#299;ngzh&#249; z&#224;i h&#225;izi sh&#275;nshang</span><br>\\nheap affection on one&#8217;s child; smother one&#8217;s child with love<br>\\n</p>\\n</blockquote>\\n<p><br>\\n<b><span style=\"font-size:0.80em;\"><span style=\"color:#B4B4B4;\">VERB</span></span></b><br>\\n<b>1&#9;</b>love<br>\\n</p>\\n<blockquote style=\"border-left: 2px solid #00aaff; margin-left: 3px; padding-left: 1em; margin-top: 0px; margin-bottom: 0px;\"><p><b><span style=\"color:#00AAFF;\">&#24859;</span></b><span style=\"color:#00AAFF;\">&#21644;&#24179;</span><br>\\n<b>&#224;i</b><span style=\"font-weight:600;\"> h&#233;p&#237;ng</span><br>\\nlove peace; peace-loving<br>\\n</p>\\n</blockquote>\\n<blockquote style=\"border-left: 2px solid #00aaff; margin-left: 3px; padding-left: 1em; margin-top: 0px; margin-bottom: 0px;\"><p><b><span style=\"color:#00AAFF;\">&#24859;</span></b><span style=\"color:#00AAFF;\">&#31062;&#22283;</span><br>\\n<b>&#192;i</b><span style=\"font-weight:600;\"> z&#468;gu&#243;</span><br>\\nlove one&#8217;s country<br>\\n</p>\\n</blockquote>\\n<blockquote style=\"border-left: 2px solid #00aaff; margin-left: 3px; padding-left: 1em; margin-top: 0px; margin-bottom: 0px;\"><p><span style=\"color:#00AAFF;\">&#28346;</span><span style=\"color:#00AAFF;\"><b>&#24859;</b></span><span style=\"color:#00AAFF;\">&#23401;&#23376;</span><br>\\n<span style=\"font-weight:600;\">n&#236;\\'</span><b>&#224;i</b><span style=\"font-weight:600;\"> h&#225;izi</span><br>\\ndote on one&#8217;s children; spoil a child<br>\\n</p>\\n</blockquote>\\n<p><b>2&#9;</b>like; fond of; keen on<br>\\n</p>\\n<blockquote style=\"border-left: 2px solid #00aaff; margin-left: 3px; padding-left: 1em; margin-top: 0px; margin-bottom: 0px;\"><p><b><span style=\"color:#00AAFF;\">&#24859;</span></b><span style=\"color:#00AAFF;\">&#19979;&#26827;</span><br>\\n<b>&#224;i</b><span style=\"font-weight:600;\"> xi&#224;q&#237;</span><br>\\nkeen on chess<br>\\n</p>\\n</blockquote>\\n<blockquote style=\"border-left: 2px solid #00aaff; margin-left: 3px; padding-left: 1em; margin-top: 0px; margin-bottom: 0px;\"><p><b><span style=\"color:#00AAFF;\">&#24859;</span></b><span style=\"color:#00AAFF;\">&#20986;&#39080;&#38957;</span><br>\\n<b>&#224;i</b><span style=\"font-weight:600;\"> ch&#363; f&#275;ngtou</span><br>\\nfond of the limelight; like attention<br>\\n</p>\\n</blockquote>\\n<blockquote style=\"border-left: 2px solid #00aaff; margin-left: 3px; padding-left: 1em; margin-top: 0px; margin-bottom: 0px;\"><p><span style=\"color:#00AAFF;\">&#37239;</span><span style=\"color:#00AAFF;\"><b>&#24859;</b></span><br>\\n<span style=\"font-weight:600;\">k&#249;\\'</span><b>&#224;i</b><br>\\nhave an excessive fondness of; dead keen on<br>\\n</p>\\n</blockquote>\\n<blockquote style=\"border-left: 2px solid #00aaff; margin-left: 3px; padding-left: 1em; margin-top: 0px; margin-bottom: 0px;\"><p><span style=\"color:#00AAFF;\">&#21482;</span><span style=\"color:#00AAFF;\"><b>&#24859;</b></span><span style=\"color:#00AAFF;\">&#32893;&#24685;&#32173;&#35441;, &#19981;</span><span style=\"color:#00AAFF;\"><b>&#24859;</b></span><span style=\"color:#00AAFF;\">&#32893;&#25209;&#35413;&#35441;</span><br>\\n<span style=\"font-weight:600;\">Zh&#464; </span><b>&#224;i</b><span style=\"font-weight:600;\"> t&#299;ng g&#333;ngweihu&#224;, b&#249; </span><b>&#224;i</b><span style=\"font-weight:600;\"> t&#299;ng p&#299;p&#237;ng hu&#224;.</span><br>\\nfond of flattery but deaf to criticism<br>\\n</p>\\n</blockquote>\\n<blockquote style=\"border-left: 2px solid #00aaff; margin-left: 3px; padding-left: 1em; margin-top: 0px; margin-bottom: 0px;\"><p><span style=\"color:#00AAFF;\">&#25105;&#19981;</span><span style=\"color:#00AAFF;\"><b>&#24859;</b></span><span style=\"color:#00AAFF;\">&#36319;&#20182;&#20358;&#24448;&#12290;</span><br>\\n<span style=\"font-weight:600;\">W&#466; b&#249; </span><b>&#224;i</b><span style=\"font-weight:600;\"> g&#275;n t&#257; l&#225;iw&#462;ng.</span><br>\\nI don&#8217;t like having anything to do with him.<br>\\n</p>\\n</blockquote>\\n<p><b>3&#9;</b>cherish; treasure; hold dear; take good care of<br>\\n</p>\\n<blockquote style=\"border-left: 2px solid #00aaff; margin-left: 3px; padding-left: 1em; margin-top: 0px; margin-bottom: 0px;\"><p><b><span style=\"color:#00AAFF;\">&#24859;</span></b><span style=\"color:#00AAFF;\">&#20844;&#29289;</span><br>\\n<b>&#192;i</b><span style=\"font-weight:600;\"> g&#333;ngw&#249;</span><br>\\nlook after public property<br>\\n</p>\\n</blockquote>\\n<blockquote style=\"border-left: 2px solid #00aaff; margin-left: 3px; padding-left: 1em; margin-top: 0px; margin-bottom: 0px;\"><p><b><span style=\"color:#00AAFF;\">&#24859;</span></b><span style=\"color:#00AAFF;\">&#24288;&#22914;&#23478;</span><br>\\n<b>&#224;i</b><span style=\"font-weight:600;\">ch&#462;ngr&#250;ji&#257;</span><br>\\ntreat the factory like one&#8217;s family<br>\\n</p>\\n</blockquote>\\n<blockquote style=\"border-left: 2px solid #00aaff; margin-left: 3px; padding-left: 1em; margin-top: 0px; margin-bottom: 0px;\"><p><b><span style=\"color:#00AAFF;\">&#24859;</span></b><span style=\"color:#00AAFF;\">&#38598;&#39636;&#27054;&#35709;</span><br>\\n<b>&#224;i</b><span style=\"font-weight:600;\"> j&#237;t&#464; r&#243;ngy&#249;</span><br>\\ncherish the good name of the group<br>\\n</p>\\n</blockquote>\\n<p><b>4&#9;</b>apt to; in the habit of<br>\\n</p>\\n<blockquote style=\"border-left: 2px solid #00aaff; margin-left: 3px; padding-left: 1em; margin-top: 0px; margin-bottom: 0px;\"><p><b><span style=\"color:#00AAFF;\">&#24859;</span></b><span style=\"color:#00AAFF;\">&#38957;&#30140;</span><br>\\n<b>&#224;i</b><span style=\"font-weight:600;\"> t&#243;ut&#233;ng</span><br>\\noften get headaches; prone to headaches<br>\\n</p>\\n</blockquote>\\n<blockquote style=\"border-left: 2px solid #00aaff; margin-left: 3px; padding-left: 1em; margin-top: 0px; margin-bottom: 0px;\"><p><b><span style=\"color:#00AAFF;\">&#24859;</span></b><span style=\"color:#00AAFF;\">&#26248;&#36554;</span><br>\\n<b>&#224;i</b><span style=\"font-weight:600;\"> y&#249;nch&#275;</span><br>\\nget carsick<br>\\n</p>\\n</blockquote>\\n<blockquote style=\"border-left: 2px solid #00aaff; margin-left: 3px; padding-left: 1em; margin-top: 0px; margin-bottom: 0px;\"><p><b><span style=\"color:#00AAFF;\">&#24859;</span></b><span style=\"color:#00AAFF;\">&#30332;&#33086;&#27683;</span><br>\\n<b>&#224;i</b><span style=\"font-weight:600;\"> f&#257; p&#237;qi</span><br>\\nirritable; short-tempered<br>\\n</p>\\n</blockquote>\\n<blockquote style=\"border-left: 2px solid #00aaff; margin-left: 3px; padding-left: 1em; margin-top: 0px; margin-bottom: 0px;\"><p><span style=\"color:#00AAFF;\">&#19981;</span><span style=\"color:#00AAFF;\"><b>&#24859;</b></span><span style=\"color:#00AAFF;\">&#35463;&#20154;</span><br>\\n<span style=\"font-weight:600;\">b&#249; </span><b>&#224;i</b><span style=\"font-weight:600;\"> ku&#257; r&#233;n</span><br>\\nseldom praise others<br>\\n</p>\\n</blockquote>\\n<blockquote style=\"border-left: 2px solid #00aaff; margin-left: 3px; padding-left: 1em; margin-top: 0px; margin-bottom: 0px;\"><p><span style=\"color:#00AAFF;\">&#37941;</span><span style=\"color:#00AAFF;\"><b>&#24859;</b></span><span style=\"color:#00AAFF;\">&#29983;&#37885;&#12290;</span><br>\\n<span style=\"font-weight:600;\">Ti&#283; </span><b>&#224;i</b><span style=\"font-weight:600;\"> sh&#275;ngxi&#249;.</span><br>\\nIron rusts easily.</p>\\n</blockquote>\\n</div><plecoentry c=\"00000000\" d=\"50414345\" e=\"0100bb00\" x=\"-1\"/>', '愛', 1631699477, 0, '')\n"
     ]
    }
   ],
   "source": [
    "# The result of a \"cursor.execute\" can be iterated over by row\n",
    "for row in list(cur.execute('SELECT * FROM notes;'))[:1]:\n",
    "    print(row)"
   ]
  },
  {
   "cell_type": "code",
   "execution_count": null,
   "id": "411ef2a6",
   "metadata": {},
   "outputs": [],
   "source": []
  }
 ],
 "metadata": {
  "kernelspec": {
   "display_name": "Python 3 (ipykernel)",
   "language": "python",
   "name": "python3"
  },
  "language_info": {
   "codemirror_mode": {
    "name": "ipython",
    "version": 3
   },
   "file_extension": ".py",
   "mimetype": "text/x-python",
   "name": "python",
   "nbconvert_exporter": "python",
   "pygments_lexer": "ipython3",
   "version": "3.7.9"
  }
 },
 "nbformat": 4,
 "nbformat_minor": 5
}
