{
 "cells": [
  {
   "attachments": {},
   "cell_type": "markdown",
   "id": "f312a93c",
   "metadata": {},
   "source": [
    "# Define Input/Output/Global Variables"
   ]
  },
  {
   "cell_type": "code",
   "execution_count": 8,
   "id": "9ad71622",
   "metadata": {},
   "outputs": [],
   "source": [
    "# global vars\n",
    "from opencc import OpenCC\n",
    "\n",
    "toTrad = OpenCC('s2tw')\n",
    "toSimp = OpenCC('t2s')\n",
    "\n",
    "# input vars\n",
    "wordlist_file = \"hsk_wordlist_processing/final_formatted_wordlist.txt\""
   ]
  },
  {
   "attachments": {},
   "cell_type": "markdown",
   "id": "70895cd0",
   "metadata": {},
   "source": [
    "# Load wordlist"
   ]
  },
  {
   "cell_type": "code",
   "execution_count": 26,
   "id": "1a3f05c4",
   "metadata": {},
   "outputs": [],
   "source": [
    "# define word entry class\n",
    "from typing import List\n",
    "import dataclasses\n",
    "\n",
    "@dataclasses.dataclass\n",
    "class WordEntry:\n",
    "    sort_numbers: List[int]\n",
    "    tags: List[str]"
   ]
  },
  {
   "cell_type": "code",
   "execution_count": 27,
   "id": "de4f6ec0",
   "metadata": {},
   "outputs": [],
   "source": [
    "# process wordlist into dictionary\n",
    "wordlist = {}\n",
    "n_words_in_wordlist, n_dup = 0, 0\n",
    "current_tag = \"\"\n",
    "for line in open(wordlist_file, encoding=\"utf-8\"):\n",
    "    line = line.strip()\n",
    "    if \"hsk_level\" in line:\n",
    "        current_tag = line.replace(\"hsk_l\", \"HSK_L\")\n",
    "        continue\n",
    "    else:\n",
    "        trad_char = toTrad.convert(line)\n",
    "        if trad_char not in wordlist:\n",
    "            wordlist[trad_char] = WordEntry(sort_numbers=[n_words_in_wordlist], tags=[current_tag])\n",
    "        else:\n",
    "            n_dup += 1\n",
    "            wordlist[trad_char].sort_numbers.append(n_words_in_wordlist)\n",
    "            wordlist[trad_char].tags.append(current_tag)\n",
    "        n_words_in_wordlist += 1"
   ]
  },
  {
   "cell_type": "code",
   "execution_count": 30,
   "id": "40ab9db6",
   "metadata": {},
   "outputs": [
    {
     "name": "stdout",
     "output_type": "stream",
     "text": [
      "('愛', WordEntry(sort_numbers=[0], tags=['HSK_Level_1']))\n",
      "('愛好', WordEntry(sort_numbers=[1], tags=['HSK_Level_1']))\n",
      "('八', WordEntry(sort_numbers=[2], tags=['HSK_Level_1']))\n",
      "('爸爸', WordEntry(sort_numbers=[3], tags=['HSK_Level_1']))\n",
      "('吧', WordEntry(sort_numbers=[4], tags=['HSK_Level_1']))\n",
      "('白', WordEntry(sort_numbers=[5, 1275], tags=['HSK_Level_1', 'HSK_Level_3']))\n",
      "('白天', WordEntry(sort_numbers=[6], tags=['HSK_Level_1']))\n",
      "('百', WordEntry(sort_numbers=[7], tags=['HSK_Level_1']))\n",
      "('班', WordEntry(sort_numbers=[8], tags=['HSK_Level_1']))\n",
      "('半', WordEntry(sort_numbers=[9], tags=['HSK_Level_1'])) \n",
      "...\n",
      "\n",
      "current wordlist is 'hsk_wordlist_processing/final_formatted_wordlist.txt'\n",
      "number of words inside original wordlist: 11073\n",
      "number of unique words:                   10921\n",
      "num_duplicates:                           152\n"
     ]
    }
   ],
   "source": [
    "# print stats on wordlist dict\n",
    "print(\"\\n\".join([str(t) for t in list(wordlist.items())[:10]]), \"\\n...\\n\")\n",
    "\n",
    "print(f\"current wordlist is '{wordlist_file}'\")\n",
    "print(\"number of words inside original wordlist:\", n_words_in_wordlist)\n",
    "print(\"number of unique words:                  \", len(set(wordlist.keys())))\n",
    "print(\"num_duplicates:                          \", n_dup)"
   ]
  },
  {
   "attachments": {},
   "cell_type": "markdown",
   "id": "35762839",
   "metadata": {},
   "source": [
    "# Connect to SQLite DB"
   ]
  },
  {
   "cell_type": "code",
   "execution_count": 9,
   "id": "37e69707",
   "metadata": {},
   "outputs": [],
   "source": [
    "from zipfile import ZipFile\n",
    "import shutil\n",
    "import os\n",
    "\n",
    "apkg_file = \"apkgs\\\\pleco_import_bkfill2.apkg\"\n",
    "experiement_folder = r\"apkgs\\\\pleco_import_bkfill2_direct_sqlite_apkg\""
   ]
  },
  {
   "cell_type": "code",
   "execution_count": 10,
   "id": "fd6a6455",
   "metadata": {},
   "outputs": [],
   "source": [
    "# if os.path.isdir(experiement_folder):\n",
    "#     shutil.rmtree(experiement_folder)\n",
    " \n",
    "\n",
    "# with ZipFile(apkg_file) as zf:\n",
    "#     zf.extractall(experiement_folder)"
   ]
  },
  {
   "cell_type": "code",
   "execution_count": 11,
   "id": "dfe86c73",
   "metadata": {},
   "outputs": [],
   "source": [
    "import sqlite3\n",
    "import re\n",
    "SEPARATOR = \"\\x1f\""
   ]
  },
  {
   "cell_type": "code",
   "execution_count": 12,
   "id": "930b310d",
   "metadata": {},
   "outputs": [],
   "source": [
    "con = sqlite3.connect(f\"{experiement_folder}\\\\collection.anki2\")"
   ]
  },
  {
   "cell_type": "code",
   "execution_count": 13,
   "id": "667fbb0a",
   "metadata": {},
   "outputs": [],
   "source": [
    "cur = con.cursor()"
   ]
  },
  {
   "cell_type": "code",
   "execution_count": 14,
   "id": "270ce1f0",
   "metadata": {},
   "outputs": [],
   "source": [
    "def get_trad_word(simp_word):\n",
    "    return toTrad.convert(toSimp.convert(simp_word))\n",
    "\n",
    "def get_trad_word_from_row(row):\n",
    "    _id, flds = row\n",
    "    flds_arr = flds.split(SEPARATOR)\n",
    "    return get_trad_word(flds_arr[0])"
   ]
  },
  {
   "cell_type": "code",
   "execution_count": 15,
   "id": "59c5ca49",
   "metadata": {},
   "outputs": [
    {
     "name": "stdout",
     "output_type": "stream",
     "text": [
      "[('col',), ('notes',), ('cards',), ('revlog',), ('sqlite_stat1',), ('sqlite_stat4',), ('graves',)]\n"
     ]
    }
   ],
   "source": [
    "cur.execute(\"SELECT name FROM sqlite_master WHERE type='table';\")\n",
    "print(cur.fetchall())"
   ]
  },
  {
   "attachments": {},
   "cell_type": "markdown",
   "id": "b41e1d89",
   "metadata": {},
   "source": [
    "# missing words"
   ]
  },
  {
   "cell_type": "code",
   "execution_count": 16,
   "id": "bf6c0c34",
   "metadata": {},
   "outputs": [
    {
     "name": "stdout",
     "output_type": "stream",
     "text": [
      "\n",
      "anki cards in sqlite: 10921\n",
      "unique words in editted wordlist: 10921\n",
      "misfits (in anki but not wordlist): 0\n",
      "missing (in wordlist, but not anki): 0\n",
      "\n"
     ]
    }
   ],
   "source": [
    "sqlite_wordset = set([get_trad_word_from_row(row) for row in list(cur.execute('SELECT id, flds FROM notes;'))])\n",
    "misfits = sqlite_wordset - full_wordset\n",
    "missing = full_wordset - sqlite_wordset \n",
    "print(f\"\"\"\n",
    "anki cards in sqlite: {len(sqlite_wordset)}\n",
    "unique words in editted wordlist: {len(full_wordset)}\n",
    "misfits (in anki but not wordlist): {len(misfits)}\n",
    "missing (in wordlist, but not anki): {len(missing)}\n",
    "\"\"\")"
   ]
  },
  {
   "cell_type": "code",
   "execution_count": 17,
   "id": "3c329455",
   "metadata": {
    "scrolled": false
   },
   "outputs": [
    {
     "data": {
      "text/plain": [
       "['不难理会', '怀', '指著和尚骂秃子', '揹', '见过世面']"
      ]
     },
     "execution_count": 17,
     "metadata": {},
     "output_type": "execute_result"
    }
   ],
   "source": [
    "# TO BE REMOVED\n",
    "sorted([toSimp.convert(word) for word in list(misfits)])"
   ]
  },
  {
   "cell_type": "code",
   "execution_count": 18,
   "id": "bb6f3237",
   "metadata": {},
   "outputs": [
    {
     "data": {
      "text/plain": [
       "[]"
      ]
     },
     "execution_count": 18,
     "metadata": {},
     "output_type": "execute_result"
    }
   ],
   "source": [
    "list(sorted([toSimp.convert(word) for word in list(missing)]))"
   ]
  },
  {
   "cell_type": "code",
   "execution_count": 21,
   "id": "1c192a2d",
   "metadata": {},
   "outputs": [],
   "source": [
    "# backfill_todo_wordlist_file = \"backfill_todo_wordlist_file.txt\"\n",
    "# with open(backfill_todo_wordlist_file, \"w\", encoding=\"utf-8\") as f:\n",
    "#     f.write(\"\\n\".join(sorted(list(missing))))"
   ]
  },
  {
   "attachments": {},
   "cell_type": "markdown",
   "id": "f0c9be2f",
   "metadata": {},
   "source": [
    "# Delete Misfit Words (in anki but not wordlist)"
   ]
  },
  {
   "cell_type": "code",
   "execution_count": 19,
   "id": "98c1ec41",
   "metadata": {},
   "outputs": [],
   "source": [
    "def delete_words(cur, words):\n",
    "    word_to_id = {get_trad_word_from_row(row) : row[0] \n",
    "          for row in list(cur.execute('SELECT id, flds FROM notes;'))}\n",
    "    for word in words:\n",
    "        del_id = word_to_id[word]\n",
    "        cur.execute(\"DELETE FROM notes WHERE id=?\", (del_id,))"
   ]
  },
  {
   "cell_type": "code",
   "execution_count": 20,
   "id": "74d06c13",
   "metadata": {},
   "outputs": [],
   "source": [
    "delete_words(cur, misfits)"
   ]
  },
  {
   "attachments": {},
   "cell_type": "markdown",
   "id": "f5654ab2",
   "metadata": {},
   "source": [
    "# Update New Fields for Cards"
   ]
  },
  {
   "cell_type": "code",
   "execution_count": 36,
   "id": "4d406e7c",
   "metadata": {},
   "outputs": [],
   "source": [
    "def extract_pinyin(back):\n",
    "    x = re.match(r\"\"\"[\\s\\S]*?<br>([\\s\\S]+?>PY <[\\s\\S]+?<\\/span>)<\\/p>\"\"\", back).group(1)\n",
    "    x = re.sub(\"<.*?>\", '', x)\n",
    "    x = re.sub(\"//\", '', x)\n",
    "    x = re.sub(\"PY\", '', x)\n",
    "    x = x.strip()\n",
    "    return x\n",
    "    \n",
    "\n",
    "def process_flds(flds):\n",
    "    flds_arr = flds.split(SEPARATOR)\n",
    "    front, back = flds_arr[0], flds_arr[1]\n",
    "    traditional = get_trad_word(front)\n",
    "    simplified = toSimp.convert(traditional)\n",
    "\n",
    "    word_entry = wordlist[traditional]\n",
    "    definition = re.match(r\"\"\"[\\s\\S]*?<\\/div>(<div align=\"left\">[\\s\\S]*?<\\/div>)\"\"\", back).group(1)\n",
    "    pinyin = extract_pinyin(back)\n",
    "    learning_order = str(min(word_entry.sort_numbers))\n",
    "    metadata = str(word_entry)\n",
    "    new_tags = f\" {' '.join(word_entry.tags)} \"\n",
    "    \n",
    "    new_flds = SEPARATOR.join([front, back, traditional, simplified, definition, pinyin, learning_order, metadata])\n",
    "    return new_flds, new_tags\n",
    "\n",
    "def update(cur, _id, new_flds, new_tags):\n",
    "    cur.execute(\"UPDATE notes SET flds = ?, tags = ? WHERE id = ?\", (new_flds, new_tags, _id))\n",
    "\n",
    "def process_row(cur, row):\n",
    "    _id, flds = row\n",
    "    new_flds, new_tags = process_flds(flds)\n",
    "    if new_flds.count(SEPARATOR) != flds.count(SEPARATOR):\n",
    "        print(f\"\"\"\n",
    "{new_flds.count(SEPARATOR)}\n",
    "{flds.count(SEPARATOR)}\n",
    "        \"\"\")\n",
    "        raise Exception(\"uh oh\")\n",
    "    update(cur, _id, new_flds, new_tags)"
   ]
  },
  {
   "cell_type": "code",
   "execution_count": 37,
   "id": "a1b643b9",
   "metadata": {},
   "outputs": [],
   "source": [
    "def update_all(cur):\n",
    "    for row in list(cur.execute('SELECT id, flds FROM notes;')):\n",
    "        process_row(cur, row)"
   ]
  },
  {
   "cell_type": "code",
   "execution_count": 38,
   "id": "ab4037e3",
   "metadata": {},
   "outputs": [],
   "source": [
    "update_all(cur)"
   ]
  },
  {
   "attachments": {},
   "cell_type": "markdown",
   "id": "e172794b",
   "metadata": {},
   "source": [
    "# Commit to DB"
   ]
  },
  {
   "cell_type": "code",
   "execution_count": 42,
   "id": "af66da1d",
   "metadata": {},
   "outputs": [],
   "source": [
    "con.commit()"
   ]
  },
  {
   "cell_type": "code",
   "execution_count": 43,
   "id": "da6d1429",
   "metadata": {},
   "outputs": [],
   "source": [
    "con.close()"
   ]
  },
  {
   "attachments": {},
   "cell_type": "markdown",
   "id": "916223d5",
   "metadata": {},
   "source": [
    "# Scratch Paper"
   ]
  },
  {
   "cell_type": "code",
   "execution_count": 27,
   "id": "9b7e8f7b",
   "metadata": {},
   "outputs": [],
   "source": [
    "b = \"\"\"<div align=\"left\"><p><span style=\"font-size:32px\";>&#25918;&#23416;&#12308;&#25918;&#23398;&#12309;</span><br>\\n<span style=\"color:#B4B4B4;\"><b><span style=\"font-size:0.80em;\">PY </span></b></span><span style=\"color:#DF80FF;\"><span style=\"font-weight:600;\">f&#224;ng</span></span><span style=\"font-weight:600;\">//</span><span style=\"font-weight:600;\"><span style=\"color:#80FF80;\">xu&#233;</span></span></p>\\n</div><div align=\"left\"><p><b><span style=\"font-size:0.80em;\"><span style=\"color:#B4B4B4;\">VERB</span></span></b><br>\\n<b>1&#9;</b>classes are over; school lets out<br>\\n</p>\\n<blockquote style=\"border-left: 2px solid #00aaff; margin-left: 3px; padding-left: 1em; margin-top: 0px; margin-bottom: 0px;\"><p><span style=\"color:#00AAFF;\">&#20182;&#20497;&#23416;&#26657;&#19979;&#21320;&#20116;&#40670;</span><span style=\"color:#00AAFF;\"><b>&#25918;&#23416;</b></span><span style=\"color:#00AAFF;\">&#12290;</sp\"\"\""
   ]
  },
  {
   "cell_type": "code",
   "execution_count": 35,
   "id": "63657354",
   "metadata": {},
   "outputs": [
    {
     "name": "stdout",
     "output_type": "stream",
     "text": [
      "f&#224;ngxu&#233;\n"
     ]
    }
   ],
   "source": [
    "x = re.match(r\"\"\"[\\s\\S]*?<br>([\\s\\S]+?>PY <[\\s\\S]+?<\\/span>)<\\/p>\"\"\", b).group(1)\n",
    "x = re.sub(\"<.*?>\", '', x)\n",
    "x = re.sub(\"//\", '', x)\n",
    "x = re.sub(\"PY\", '', x)\n",
    "x = x.strip()\n",
    "print(x)"
   ]
  },
  {
   "cell_type": "code",
   "execution_count": 33,
   "id": "0df8b9bd",
   "metadata": {},
   "outputs": [
    {
     "name": "stdout",
     "output_type": "stream",
     "text": [
      "<span style=\"color:#B4B4B4;\"><b><span style=\"font-size:0.80em;\">PY </span></b></span><span style=\"color:#DF80FF;\"><span style=\"font-weight:600;\">f&#224;ng</span></span><span style=\"font-weight:600;\">//</span><span style=\"font-weight:600;\"><span style=\"color:#80FF80;\">xu&#233;</span></span>\n"
     ]
    }
   ],
   "source": [
    "print(x.strip())"
   ]
  },
  {
   "cell_type": "code",
   "execution_count": 34,
   "id": "719a7092",
   "metadata": {},
   "outputs": [
    {
     "data": {
      "text/plain": [
       "'\\nPY f&#224;ng//xu&#233;'"
      ]
     },
     "execution_count": 34,
     "metadata": {},
     "output_type": "execute_result"
    }
   ],
   "source": []
  },
  {
   "cell_type": "code",
   "execution_count": null,
   "id": "af09f9a8",
   "metadata": {},
   "outputs": [],
   "source": []
  },
  {
   "cell_type": "code",
   "execution_count": 17,
   "id": "84223176",
   "metadata": {},
   "outputs": [
    {
     "data": {
      "text/plain": [
       "('飛\\x1f<div align=\"left\"><p><span style=\"font-size:32px\" ;=\"\">飛〔飞〕</span><br>\\n<span style=\"color:#B4B4B4;\"><b><span style=\"font-size:0.80em;\">PY </span></b></span><span style=\"color:#FF8080;\"><span style=\"font-weight:600;\">fēi</span></span></p>\\n</div><div align=\"left\"><p><b><span style=\"font-size:0.80em;\"><span style=\"color:#B4B4B4;\">VERB</span></span></b><br>\\n<b>1\\t</b>(of birds or insects) fly; flit<br>\\n</p>\\n<blockquote style=\"border-left: 2px solid #00aaff; margin-left: 3px; padding-left: 1em; margin-top: 0px; margin-bottom: 0px;\"><p><b><span style=\"color:#00AAFF;\">飛</span></b><span style=\"color:#00AAFF;\">鳥</span><br>\\n<b>fēi</b><span style=\"font-weight:600;\">niǎo</span><br>\\nflying bird<br>\\n</p>\\n</blockquote>\\n<blockquote style=\"border-left: 2px solid #00aaff; margin-left: 3px; padding-left: 1em; margin-top: 0px; margin-bottom: 0px;\"><p><span style=\"color:#00AAFF;\">老鷹</span><span style=\"color:#00AAFF;\"><b>飛</b></span><span style=\"color:#00AAFF;\">得高。</span><br>\\n<span style=\"font-weight:600;\">Lǎoyīng </span><b>fēi</b><span style=\"font-weight:600;\"> de gāo.</span><br>\\nEagles fly high.<br>\\n</p>\\n</blockquote>\\n<blockquote style=\"border-left: 2px solid #00aaff; margin-left: 3px; padding-left: 1em; margin-top: 0px; margin-bottom: 0px;\"><p><span style=\"color:#00AAFF;\">小鳥</span><span style=\"color:#00AAFF;\"><b>飛</b></span><span style=\"color:#00AAFF;\">(走)了。</span><br>\\n<span style=\"font-weight:600;\">Xiǎoniǎo </span><b>fēi</b><span style=\"font-weight:600;\"> le.</span><br>\\nThe bird flew away.<br>\\n</p>\\n</blockquote>\\n<blockquote style=\"border-left: 2px solid #00aaff; margin-left: 3px; padding-left: 1em; margin-top: 0px; margin-bottom: 0px;\"><p><span style=\"color:#00AAFF;\">蜜蜂在花叢中</span><span style=\"color:#00AAFF;\"><b>飛</b></span><span style=\"color:#00AAFF;\">來</span><span style=\"color:#00AAFF;\"><b>飛</b></span><span style=\"color:#00AAFF;\">去。</span><br>\\n<span style=\"font-weight:600;\">Mìfēng zài huā cóng zhōng </span><b>fēi</b><span style=\"font-weight:600;\"> lái </span><b>fēi</b><span style=\"font-weight:600;\"> qù.</span><br>\\nBees are flitting from flower to flower.<br>\\n</p>\\n</blockquote>\\n<p><b>2\\t</b>(of an aircraft or its occupants) fly; travel by plane<br>\\n</p>\\n<blockquote style=\"border-left: 2px solid #00aaff; margin-left: 3px; padding-left: 1em; margin-top: 0px; margin-bottom: 0px;\"><p><span style=\"color:#00AAFF;\">我明天</span><span style=\"color:#00AAFF;\"><b>飛</b></span><span style=\"color:#00AAFF;\">上海。</span><br>\\n<span style=\"font-weight:600;\">Wǒ míngtiān </span><b>fēi</b><span style=\"font-weight:600;\"> Shànghǎi.</span><br>\\nI’m flying to Shanghai tomorrow.<br>\\n</p>\\n</blockquote>\\n<blockquote style=\"border-left: 2px solid #00aaff; margin-left: 3px; padding-left: 1em; margin-top: 0px; margin-bottom: 0px;\"><p><span style=\"color:#00AAFF;\">那架</span><span style=\"color:#00AAFF;\"><b>飛</b></span><span style=\"color:#00AAFF;\">機從北京直</span><span style=\"color:#00AAFF;\"><b>飛</b></span><span style=\"color:#00AAFF;\">廣州。</span><br>\\n<span style=\"font-weight:600;\">Nà jià </span><b>fēi</b><span style=\"font-weight:600;\">jī cóng Běijīng zhí </span><b>fēi</b><span style=\"font-weight:600;\"> Guǎngzhōu.</span><br>\\nThat plane flies nonstop from Beijing to Guangzhou.<br>\\n</p>\\n</blockquote>\\n<p><b>3\\t</b>hover or flutter in the air<br>\\n</p>\\n<blockquote style=\"border-left: 2px solid #00aaff; margin-left: 3px; padding-left: 1em; margin-top: 0px; margin-bottom: 0px;\"><p><b><span style=\"color:#00AAFF;\">飛</span></b><span style=\"color:#00AAFF;\">絮</span><br>\\n<b>fēi</b><span style=\"font-weight:600;\"> xù</span><br>\\nwillow catkins fluttering in the air<br>\\n</p>\\n</blockquote>\\n<blockquote style=\"border-left: 2px solid #00aaff; margin-left: 3px; padding-left: 1em; margin-top: 0px; margin-bottom: 0px;\"><p><b><span style=\"color:#00AAFF;\">飛</span></b><span style=\"color:#00AAFF;\">鳶</span><br>\\n<b>Fēi</b><span style=\"font-weight:600;\"> yuān</span><br>\\na hovering kite<br>\\n</p>\\n</blockquote>\\n<blockquote style=\"border-left: 2px solid #00aaff; margin-left: 3px; padding-left: 1em; margin-top: 0px; margin-bottom: 0px;\"><p><b><span style=\"color:#00AAFF;\">飛</span></b><span style=\"color:#00AAFF;\">雪花了。</span><br>\\n<b>Fēi</b><span style=\"font-weight:600;\"> xuě huā le.</span><br>\\nIt’s snowing.<br>\\n</p>\\n</blockquote>\\n<p><b>4\\t</b><b><span style=\"font-size:0.80em;\"><span style=\"color:#B4B4B4;\">COLLOQUIAL</span></span></b><br>\\ndisappear through volatilization<br>\\n</p>\\n<blockquote style=\"border-left: 2px solid #00aaff; margin-left: 3px; padding-left: 1em; margin-top: 0px; margin-bottom: 0px;\"><p><span style=\"color:#00AAFF;\">樟腦丸放久了會</span><span style=\"color:#00AAFF;\"><b>飛</b></span><span style=\"color:#00AAFF;\">凈的。</span><br>\\n<span style=\"font-weight:600;\">Zhāngnǎowán fàng jiǔ le huì </span><b>fēi</b><span style=\"font-weight:600;\"> jìng de.</span><br>\\nCamphor balls will disappear as time goes on.<br>\\n</p>\\n</blockquote>\\n<p><br>\\n<b><span style=\"font-size:0.80em;\"><span style=\"color:#B4B4B4;\">ADVERB</span></span></b><br>\\n(move) swiftly<br>\\n<b><span style=\"font-size:0.80em;\"><span style=\"color:#B4B4B4;\">ADJECTIVE</span></span></b><br>\\nunexpected; accidental; unfounded; groundless<br>\\n</p>\\n<blockquote style=\"border-left: 2px solid #00aaff; margin-left: 3px; padding-left: 1em; margin-top: 0px; margin-bottom: 0px;\"><p><b><span style=\"color:#00AAFF;\">飛</span></b><span style=\"color:#00AAFF;\">禍</span><br>\\n<b>fēi</b><span style=\"font-weight:600;\">huò</span><br>\\nunexpected disaster<br>\\n</p>\\n</blockquote>\\n<p><br>\\n<b><span style=\"font-size:0.80em;\"><span style=\"color:#B4B4B4;\">NOUN</span></span></b><br>\\n<b><span style=\"font-size:0.80em;\"><span style=\"color:#B4B4B4;\">DIALECT</span></span></b><br>\\nfree wheel (of a bicycle)</p>\\n</div><plecoentry c=\"00000000\" d=\"50414345\" e=\"013e4e00\" x=\"-1\"></plecoentry>\\x1f飛\\x1f飞\\x1f<div align=\"left\"><p><b><span style=\"font-size:0.80em;\"><span style=\"color:#B4B4B4;\">VERB</span></span></b><br>\\n<b>1\\t</b>(of birds or insects) fly; flit<br>\\n</p>\\n<blockquote style=\"border-left: 2px solid #00aaff; margin-left: 3px; padding-left: 1em; margin-top: 0px; margin-bottom: 0px;\"><p><b><span style=\"color:#00AAFF;\">飛</span></b><span style=\"color:#00AAFF;\">鳥</span><br>\\n<b>fēi</b><span style=\"font-weight:600;\">niǎo</span><br>\\nflying bird<br>\\n</p>\\n</blockquote>\\n<blockquote style=\"border-left: 2px solid #00aaff; margin-left: 3px; padding-left: 1em; margin-top: 0px; margin-bottom: 0px;\"><p><span style=\"color:#00AAFF;\">老鷹</span><span style=\"color:#00AAFF;\"><b>飛</b></span><span style=\"color:#00AAFF;\">得高。</span><br>\\n<span style=\"font-weight:600;\">Lǎoyīng </span><b>fēi</b><span style=\"font-weight:600;\"> de gāo.</span><br>\\nEagles fly high.<br>\\n</p>\\n</blockquote>\\n<blockquote style=\"border-left: 2px solid #00aaff; margin-left: 3px; padding-left: 1em; margin-top: 0px; margin-bottom: 0px;\"><p><span style=\"color:#00AAFF;\">小鳥</span><span style=\"color:#00AAFF;\"><b>飛</b></span><span style=\"color:#00AAFF;\">(走)了。</span><br>\\n<span style=\"font-weight:600;\">Xiǎoniǎo </span><b>fēi</b><span style=\"font-weight:600;\"> le.</span><br>\\nThe bird flew away.<br>\\n</p>\\n</blockquote>\\n<blockquote style=\"border-left: 2px solid #00aaff; margin-left: 3px; padding-left: 1em; margin-top: 0px; margin-bottom: 0px;\"><p><span style=\"color:#00AAFF;\">蜜蜂在花叢中</span><span style=\"color:#00AAFF;\"><b>飛</b></span><span style=\"color:#00AAFF;\">來</span><span style=\"color:#00AAFF;\"><b>飛</b></span><span style=\"color:#00AAFF;\">去。</span><br>\\n<span style=\"font-weight:600;\">Mìfēng zài huā cóng zhōng </span><b>fēi</b><span style=\"font-weight:600;\"> lái </span><b>fēi</b><span style=\"font-weight:600;\"> qù.</span><br>\\nBees are flitting from flower to flower.<br>\\n</p>\\n</blockquote>\\n<p><b>2\\t</b>(of an aircraft or its occupants) fly; travel by plane<br>\\n</p>\\n<blockquote style=\"border-left: 2px solid #00aaff; margin-left: 3px; padding-left: 1em; margin-top: 0px; margin-bottom: 0px;\"><p><span style=\"color:#00AAFF;\">我明天</span><span style=\"color:#00AAFF;\"><b>飛</b></span><span style=\"color:#00AAFF;\">上海。</span><br>\\n<span style=\"font-weight:600;\">Wǒ míngtiān </span><b>fēi</b><span style=\"font-weight:600;\"> Shànghǎi.</span><br>\\nI’m flying to Shanghai tomorrow.<br>\\n</p>\\n</blockquote>\\n<blockquote style=\"border-left: 2px solid #00aaff; margin-left: 3px; padding-left: 1em; margin-top: 0px; margin-bottom: 0px;\"><p><span style=\"color:#00AAFF;\">那架</span><span style=\"color:#00AAFF;\"><b>飛</b></span><span style=\"color:#00AAFF;\">機從北京直</span><span style=\"color:#00AAFF;\"><b>飛</b></span><span style=\"color:#00AAFF;\">廣州。</span><br>\\n<span style=\"font-weight:600;\">Nà jià </span><b>fēi</b><span style=\"font-weight:600;\">jī cóng Běijīng zhí </span><b>fēi</b><span style=\"font-weight:600;\"> Guǎngzhōu.</span><br>\\nThat plane flies nonstop from Beijing to Guangzhou.<br>\\n</p>\\n</blockquote>\\n<p><b>3\\t</b>hover or flutter in the air<br>\\n</p>\\n<blockquote style=\"border-left: 2px solid #00aaff; margin-left: 3px; padding-left: 1em; margin-top: 0px; margin-bottom: 0px;\"><p><b><span style=\"color:#00AAFF;\">飛</span></b><span style=\"color:#00AAFF;\">絮</span><br>\\n<b>fēi</b><span style=\"font-weight:600;\"> xù</span><br>\\nwillow catkins fluttering in the air<br>\\n</p>\\n</blockquote>\\n<blockquote style=\"border-left: 2px solid #00aaff; margin-left: 3px; padding-left: 1em; margin-top: 0px; margin-bottom: 0px;\"><p><b><span style=\"color:#00AAFF;\">飛</span></b><span style=\"color:#00AAFF;\">鳶</span><br>\\n<b>Fēi</b><span style=\"font-weight:600;\"> yuān</span><br>\\na hovering kite<br>\\n</p>\\n</blockquote>\\n<blockquote style=\"border-left: 2px solid #00aaff; margin-left: 3px; padding-left: 1em; margin-top: 0px; margin-bottom: 0px;\"><p><b><span style=\"color:#00AAFF;\">飛</span></b><span style=\"color:#00AAFF;\">雪花了。</span><br>\\n<b>Fēi</b><span style=\"font-weight:600;\"> xuě huā le.</span><br>\\nIt’s snowing.<br>\\n</p>\\n</blockquote>\\n<p><b>4\\t</b><b><span style=\"font-size:0.80em;\"><span style=\"color:#B4B4B4;\">COLLOQUIAL</span></span></b><br>\\ndisappear through volatilization<br>\\n</p>\\n<blockquote style=\"border-left: 2px solid #00aaff; margin-left: 3px; padding-left: 1em; margin-top: 0px; margin-bottom: 0px;\"><p><span style=\"color:#00AAFF;\">樟腦丸放久了會</span><span style=\"color:#00AAFF;\"><b>飛</b></span><span style=\"color:#00AAFF;\">凈的。</span><br>\\n<span style=\"font-weight:600;\">Zhāngnǎowán fàng jiǔ le huì </span><b>fēi</b><span style=\"font-weight:600;\"> jìng de.</span><br>\\nCamphor balls will disappear as time goes on.<br>\\n</p>\\n</blockquote>\\n<p><br>\\n<b><span style=\"font-size:0.80em;\"><span style=\"color:#B4B4B4;\">ADVERB</span></span></b><br>\\n(move) swiftly<br>\\n<b><span style=\"font-size:0.80em;\"><span style=\"color:#B4B4B4;\">ADJECTIVE</span></span></b><br>\\nunexpected; accidental; unfounded; groundless<br>\\n</p>\\n<blockquote style=\"border-left: 2px solid #00aaff; margin-left: 3px; padding-left: 1em; margin-top: 0px; margin-bottom: 0px;\"><p><b><span style=\"color:#00AAFF;\">飛</span></b><span style=\"color:#00AAFF;\">禍</span><br>\\n<b>fēi</b><span style=\"font-weight:600;\">huò</span><br>\\nunexpected disaster<br>\\n</p>\\n</blockquote>\\n<p><br>\\n<b><span style=\"font-size:0.80em;\"><span style=\"color:#B4B4B4;\">NOUN</span></span></b><br>\\n<b><span style=\"font-size:0.80em;\"><span style=\"color:#B4B4B4;\">DIALECT</span></span></b><br>\\nfree wheel (of a bicycle)</p>\\n</div>\\x1ffēi\\x1f104\\x1fWordEntry(sort_numbers=[104], tags=[\\'HSK_Level_1\\'])',\n",
       " ' HSK_Level_1 ')"
      ]
     },
     "execution_count": 17,
     "metadata": {},
     "output_type": "execute_result"
    }
   ],
   "source": [
    "__id, _flds, _tags = list(cur.execute('SELECT id, flds, tags FROM notes;'))[101]\n",
    "_flds, _tags"
   ]
  },
  {
   "cell_type": "code",
   "execution_count": 15,
   "id": "acd676ba",
   "metadata": {
    "scrolled": true
   },
   "outputs": [
    {
     "data": {
      "text/plain": [
       "('飛\\x1f<div align=\"left\"><p><span style=\"font-size:32px\" ;=\"\">飛〔飞〕</span><br>\\n<span style=\"color:#B4B4B4;\"><b><span style=\"font-size:0.80em;\">PY </span></b></span><span style=\"color:#FF8080;\"><span style=\"font-weight:600;\">fēi</span></span></p>\\n</div><div align=\"left\"><p><b><span style=\"font-size:0.80em;\"><span style=\"color:#B4B4B4;\">VERB</span></span></b><br>\\n<b>1\\t</b>(of birds or insects) fly; flit<br>\\n</p>\\n<blockquote style=\"border-left: 2px solid #00aaff; margin-left: 3px; padding-left: 1em; margin-top: 0px; margin-bottom: 0px;\"><p><b><span style=\"color:#00AAFF;\">飛</span></b><span style=\"color:#00AAFF;\">鳥</span><br>\\n<b>fēi</b><span style=\"font-weight:600;\">niǎo</span><br>\\nflying bird<br>\\n</p>\\n</blockquote>\\n<blockquote style=\"border-left: 2px solid #00aaff; margin-left: 3px; padding-left: 1em; margin-top: 0px; margin-bottom: 0px;\"><p><span style=\"color:#00AAFF;\">老鷹</span><span style=\"color:#00AAFF;\"><b>飛</b></span><span style=\"color:#00AAFF;\">得高。</span><br>\\n<span style=\"font-weight:600;\">Lǎoyīng </span><b>fēi</b><span style=\"font-weight:600;\"> de gāo.</span><br>\\nEagles fly high.<br>\\n</p>\\n</blockquote>\\n<blockquote style=\"border-left: 2px solid #00aaff; margin-left: 3px; padding-left: 1em; margin-top: 0px; margin-bottom: 0px;\"><p><span style=\"color:#00AAFF;\">小鳥</span><span style=\"color:#00AAFF;\"><b>飛</b></span><span style=\"color:#00AAFF;\">(走)了。</span><br>\\n<span style=\"font-weight:600;\">Xiǎoniǎo </span><b>fēi</b><span style=\"font-weight:600;\"> le.</span><br>\\nThe bird flew away.<br>\\n</p>\\n</blockquote>\\n<blockquote style=\"border-left: 2px solid #00aaff; margin-left: 3px; padding-left: 1em; margin-top: 0px; margin-bottom: 0px;\"><p><span style=\"color:#00AAFF;\">蜜蜂在花叢中</span><span style=\"color:#00AAFF;\"><b>飛</b></span><span style=\"color:#00AAFF;\">來</span><span style=\"color:#00AAFF;\"><b>飛</b></span><span style=\"color:#00AAFF;\">去。</span><br>\\n<span style=\"font-weight:600;\">Mìfēng zài huā cóng zhōng </span><b>fēi</b><span style=\"font-weight:600;\"> lái </span><b>fēi</b><span style=\"font-weight:600;\"> qù.</span><br>\\nBees are flitting from flower to flower.<br>\\n</p>\\n</blockquote>\\n<p><b>2\\t</b>(of an aircraft or its occupants) fly; travel by plane<br>\\n</p>\\n<blockquote style=\"border-left: 2px solid #00aaff; margin-left: 3px; padding-left: 1em; margin-top: 0px; margin-bottom: 0px;\"><p><span style=\"color:#00AAFF;\">我明天</span><span style=\"color:#00AAFF;\"><b>飛</b></span><span style=\"color:#00AAFF;\">上海。</span><br>\\n<span style=\"font-weight:600;\">Wǒ míngtiān </span><b>fēi</b><span style=\"font-weight:600;\"> Shànghǎi.</span><br>\\nI’m flying to Shanghai tomorrow.<br>\\n</p>\\n</blockquote>\\n<blockquote style=\"border-left: 2px solid #00aaff; margin-left: 3px; padding-left: 1em; margin-top: 0px; margin-bottom: 0px;\"><p><span style=\"color:#00AAFF;\">那架</span><span style=\"color:#00AAFF;\"><b>飛</b></span><span style=\"color:#00AAFF;\">機從北京直</span><span style=\"color:#00AAFF;\"><b>飛</b></span><span style=\"color:#00AAFF;\">廣州。</span><br>\\n<span style=\"font-weight:600;\">Nà jià </span><b>fēi</b><span style=\"font-weight:600;\">jī cóng Běijīng zhí </span><b>fēi</b><span style=\"font-weight:600;\"> Guǎngzhōu.</span><br>\\nThat plane flies nonstop from Beijing to Guangzhou.<br>\\n</p>\\n</blockquote>\\n<p><b>3\\t</b>hover or flutter in the air<br>\\n</p>\\n<blockquote style=\"border-left: 2px solid #00aaff; margin-left: 3px; padding-left: 1em; margin-top: 0px; margin-bottom: 0px;\"><p><b><span style=\"color:#00AAFF;\">飛</span></b><span style=\"color:#00AAFF;\">絮</span><br>\\n<b>fēi</b><span style=\"font-weight:600;\"> xù</span><br>\\nwillow catkins fluttering in the air<br>\\n</p>\\n</blockquote>\\n<blockquote style=\"border-left: 2px solid #00aaff; margin-left: 3px; padding-left: 1em; margin-top: 0px; margin-bottom: 0px;\"><p><b><span style=\"color:#00AAFF;\">飛</span></b><span style=\"color:#00AAFF;\">鳶</span><br>\\n<b>Fēi</b><span style=\"font-weight:600;\"> yuān</span><br>\\na hovering kite<br>\\n</p>\\n</blockquote>\\n<blockquote style=\"border-left: 2px solid #00aaff; margin-left: 3px; padding-left: 1em; margin-top: 0px; margin-bottom: 0px;\"><p><b><span style=\"color:#00AAFF;\">飛</span></b><span style=\"color:#00AAFF;\">雪花了。</span><br>\\n<b>Fēi</b><span style=\"font-weight:600;\"> xuě huā le.</span><br>\\nIt’s snowing.<br>\\n</p>\\n</blockquote>\\n<p><b>4\\t</b><b><span style=\"font-size:0.80em;\"><span style=\"color:#B4B4B4;\">COLLOQUIAL</span></span></b><br>\\ndisappear through volatilization<br>\\n</p>\\n<blockquote style=\"border-left: 2px solid #00aaff; margin-left: 3px; padding-left: 1em; margin-top: 0px; margin-bottom: 0px;\"><p><span style=\"color:#00AAFF;\">樟腦丸放久了會</span><span style=\"color:#00AAFF;\"><b>飛</b></span><span style=\"color:#00AAFF;\">凈的。</span><br>\\n<span style=\"font-weight:600;\">Zhāngnǎowán fàng jiǔ le huì </span><b>fēi</b><span style=\"font-weight:600;\"> jìng de.</span><br>\\nCamphor balls will disappear as time goes on.<br>\\n</p>\\n</blockquote>\\n<p><br>\\n<b><span style=\"font-size:0.80em;\"><span style=\"color:#B4B4B4;\">ADVERB</span></span></b><br>\\n(move) swiftly<br>\\n<b><span style=\"font-size:0.80em;\"><span style=\"color:#B4B4B4;\">ADJECTIVE</span></span></b><br>\\nunexpected; accidental; unfounded; groundless<br>\\n</p>\\n<blockquote style=\"border-left: 2px solid #00aaff; margin-left: 3px; padding-left: 1em; margin-top: 0px; margin-bottom: 0px;\"><p><b><span style=\"color:#00AAFF;\">飛</span></b><span style=\"color:#00AAFF;\">禍</span><br>\\n<b>fēi</b><span style=\"font-weight:600;\">huò</span><br>\\nunexpected disaster<br>\\n</p>\\n</blockquote>\\n<p><br>\\n<b><span style=\"font-size:0.80em;\"><span style=\"color:#B4B4B4;\">NOUN</span></span></b><br>\\n<b><span style=\"font-size:0.80em;\"><span style=\"color:#B4B4B4;\">DIALECT</span></span></b><br>\\nfree wheel (of a bicycle)</p>\\n</div><plecoentry c=\"00000000\" d=\"50414345\" e=\"013e4e00\" x=\"-1\"></plecoentry>\\x1f\\x1f\\x1f\\x1f\\x1f\\x1f',\n",
       " ' HSK_Level_1 hsk_level_7-9 ')"
      ]
     },
     "execution_count": 15,
     "metadata": {},
     "output_type": "execute_result"
    }
   ],
   "source": [
    "__id, _flds, _tags = list(cur.execute('SELECT id, flds, tags FROM notes;'))[101]\n",
    "_flds, _tags"
   ]
  },
  {
   "cell_type": "code",
   "execution_count": 22,
   "id": "33a1cd9e",
   "metadata": {
    "scrolled": true
   },
   "outputs": [
    {
     "data": {
      "text/plain": [
       "('飛\\x1f飞\\x1f<div align=\"left\"><p><b><span style=\"font-size:0.80em;\"><span style=\"color:#B4B4B4;\">VERB</span></span></b><br>\\n<b>1&#9;</b>(of birds or insects) fly; flit<br>\\n</p>\\n<blockquote style=\"border-left: 2px solid #00aaff; margin-left: 3px; padding-left: 1em; margin-top: 0px; margin-bottom: 0px;\"><p><b><span style=\"color:#00AAFF;\">&#39131;</span></b><span style=\"color:#00AAFF;\">&#40165;</span><br>\\n<b>f&#275;i</b><span style=\"font-weight:600;\">ni&#462;o</span><br>\\nflying bird<br>\\n</p>\\n</blockquote>\\n<blockquote style=\"border-left: 2px solid #00aaff; margin-left: 3px; padding-left: 1em; margin-top: 0px; margin-bottom: 0px;\"><p><span style=\"color:#00AAFF;\">&#32769;&#40441;</span><span style=\"color:#00AAFF;\"><b>&#39131;</b></span><span style=\"color:#00AAFF;\">&#24471;&#39640;&#12290;</span><br>\\n<span style=\"font-weight:600;\">L&#462;oy&#299;ng </span><b>f&#275;i</b><span style=\"font-weight:600;\"> de g&#257;o.</span><br>\\nEagles fly high.<br>\\n</p>\\n</blockquote>\\n<blockquote style=\"border-left: 2px solid #00aaff; margin-left: 3px; padding-left: 1em; margin-top: 0px; margin-bottom: 0px;\"><p><span style=\"color:#00AAFF;\">&#23567;&#40165;</span><span style=\"color:#00AAFF;\"><b>&#39131;</b></span><span style=\"color:#00AAFF;\">(&#36208;)&#20102;&#12290;</span><br>\\n<span style=\"font-weight:600;\">Xi&#462;oni&#462;o </span><b>f&#275;i</b><span style=\"font-weight:600;\"> le.</span><br>\\nThe bird flew away.<br>\\n</p>\\n</blockquote>\\n<blockquote style=\"border-left: 2px solid #00aaff; margin-left: 3px; padding-left: 1em; margin-top: 0px; margin-bottom: 0px;\"><p><span style=\"color:#00AAFF;\">&#34588;&#34562;&#22312;&#33457;&#21474;&#20013;</span><span style=\"color:#00AAFF;\"><b>&#39131;</b></span><span style=\"color:#00AAFF;\">&#20358;</span><span style=\"color:#00AAFF;\"><b>&#39131;</b></span><span style=\"color:#00AAFF;\">&#21435;&#12290;</span><br>\\n<span style=\"font-weight:600;\">M&#236;f&#275;ng z&#224;i hu&#257; c&#243;ng zh&#333;ng </span><b>f&#275;i</b><span style=\"font-weight:600;\"> l&#225;i </span><b>f&#275;i</b><span style=\"font-weight:600;\"> q&#249;.</span><br>\\nBees are flitting from flower to flower.<br>\\n</p>\\n</blockquote>\\n<p><b>2&#9;</b>(of an aircraft or its occupants) fly; travel by plane<br>\\n</p>\\n<blockquote style=\"border-left: 2px solid #00aaff; margin-left: 3px; padding-left: 1em; margin-top: 0px; margin-bottom: 0px;\"><p><span style=\"color:#00AAFF;\">&#25105;&#26126;&#22825;</span><span style=\"color:#00AAFF;\"><b>&#39131;</b></span><span style=\"color:#00AAFF;\">&#19978;&#28023;&#12290;</span><br>\\n<span style=\"font-weight:600;\">W&#466; m&#237;ngti&#257;n </span><b>f&#275;i</b><span style=\"font-weight:600;\"> Sh&#224;ngh&#462;i.</span><br>\\nI&#8217;m flying to Shanghai tomorrow.<br>\\n</p>\\n</blockquote>\\n<blockquote style=\"border-left: 2px solid #00aaff; margin-left: 3px; padding-left: 1em; margin-top: 0px; margin-bottom: 0px;\"><p><span style=\"color:#00AAFF;\">&#37027;&#26550;</span><span style=\"color:#00AAFF;\"><b>&#39131;</b></span><span style=\"color:#00AAFF;\">&#27231;&#24478;&#21271;&#20140;&#30452;</span><span style=\"color:#00AAFF;\"><b>&#39131;</b></span><span style=\"color:#00AAFF;\">&#24291;&#24030;&#12290;</span><br>\\n<span style=\"font-weight:600;\">N&#224; ji&#224; </span><b>f&#275;i</b><span style=\"font-weight:600;\">j&#299; c&#243;ng B&#283;ij&#299;ng zh&#237; </span><b>f&#275;i</b><span style=\"font-weight:600;\"> Gu&#462;ngzh&#333;u.</span><br>\\nThat plane flies nonstop from Beijing to Guangzhou.<br>\\n</p>\\n</blockquote>\\n<p><b>3&#9;</b>hover or flutter in the air<br>\\n</p>\\n<blockquote style=\"border-left: 2px solid #00aaff; margin-left: 3px; padding-left: 1em; margin-top: 0px; margin-bottom: 0px;\"><p><b><span style=\"color:#00AAFF;\">&#39131;</span></b><span style=\"color:#00AAFF;\">&#32110;</span><br>\\n<b>f&#275;i</b><span style=\"font-weight:600;\"> x&#249;</span><br>\\nwillow catkins fluttering in the air<br>\\n</p>\\n</blockquote>\\n<blockquote style=\"border-left: 2px solid #00aaff; margin-left: 3px; padding-left: 1em; margin-top: 0px; margin-bottom: 0px;\"><p><b><span style=\"color:#00AAFF;\">&#39131;</span></b><span style=\"color:#00AAFF;\">&#40182;</span><br>\\n<b>F&#275;i</b><span style=\"font-weight:600;\"> yu&#257;n</span><br>\\na hovering kite<br>\\n</p>\\n</blockquote>\\n<blockquote style=\"border-left: 2px solid #00aaff; margin-left: 3px; padding-left: 1em; margin-top: 0px; margin-bottom: 0px;\"><p><b><span style=\"color:#00AAFF;\">&#39131;</span></b><span style=\"color:#00AAFF;\">&#38634;&#33457;&#20102;&#12290;</span><br>\\n<b>F&#275;i</b><span style=\"font-weight:600;\"> xu&#283; hu&#257; le.</span><br>\\nIt&#8217;s snowing.<br>\\n</p>\\n</blockquote>\\n<p><b>4&#9;</b><b><span style=\"font-size:0.80em;\"><span style=\"color:#B4B4B4;\">COLLOQUIAL</span></span></b><br>\\ndisappear through volatilization<br>\\n</p>\\n<blockquote style=\"border-left: 2px solid #00aaff; margin-left: 3px; padding-left: 1em; margin-top: 0px; margin-bottom: 0px;\"><p><span style=\"color:#00AAFF;\">&#27167;&#33126;&#20024;&#25918;&#20037;&#20102;&#26371;</span><span style=\"color:#00AAFF;\"><b>&#39131;</b></span><span style=\"color:#00AAFF;\">&#20936;&#30340;&#12290;</span><br>\\n<span style=\"font-weight:600;\">Zh&#257;ngn&#462;ow&#225;n f&#224;ng ji&#468; le hu&#236; </span><b>f&#275;i</b><span style=\"font-weight:600;\"> j&#236;ng de.</span><br>\\nCamphor balls will disappear as time goes on.<br>\\n</p>\\n</blockquote>\\n<p><br>\\n<b><span style=\"font-size:0.80em;\"><span style=\"color:#B4B4B4;\">ADVERB</span></span></b><br>\\n(move) swiftly<br>\\n<b><span style=\"font-size:0.80em;\"><span style=\"color:#B4B4B4;\">ADJECTIVE</span></span></b><br>\\nunexpected; accidental; unfounded; groundless<br>\\n</p>\\n<blockquote style=\"border-left: 2px solid #00aaff; margin-left: 3px; padding-left: 1em; margin-top: 0px; margin-bottom: 0px;\"><p><b><span style=\"color:#00AAFF;\">&#39131;</span></b><span style=\"color:#00AAFF;\">&#31117;</span><br>\\n<b>f&#275;i</b><span style=\"font-weight:600;\">hu&#242;</span><br>\\nunexpected disaster<br>\\n</p>\\n</blockquote>\\n<p><br>\\n<b><span style=\"font-size:0.80em;\"><span style=\"color:#B4B4B4;\">NOUN</span></span></b><br>\\n<b><span style=\"font-size:0.80em;\"><span style=\"color:#B4B4B4;\">DIALECT</span></span></b><br>\\nfree wheel (of a bicycle)</p>\\n</div>\\x1ff&#275;i\\x1f105\\x1fWordEntry(sort_numbers=[105], tags=[\\'HSK_Level_1\\'])',\n",
       " ' HSK_Level_1 ')"
      ]
     },
     "execution_count": 22,
     "metadata": {},
     "output_type": "execute_result"
    }
   ],
   "source": [
    "process_flds(_flds)"
   ]
  },
  {
   "cell_type": "code",
   "execution_count": 40,
   "id": "5f5a97d7",
   "metadata": {},
   "outputs": [
    {
     "data": {
      "text/plain": [
       "('放學\\x1f<div align=\"left\"><p><span style=\"font-size:32px\";>&#25918;&#23416;&#12308;&#25918;&#23398;&#12309;</span><br>\\n<span style=\"color:#B4B4B4;\"><b><span style=\"font-size:0.80em;\">PY </span></b></span><span style=\"color:#DF80FF;\"><span style=\"font-weight:600;\">f&#224;ng</span></span><span style=\"font-weight:600;\">//</span><span style=\"font-weight:600;\"><span style=\"color:#80FF80;\">xu&#233;</span></span></p>\\n</div><div align=\"left\"><p><b><span style=\"font-size:0.80em;\"><span style=\"color:#B4B4B4;\">VERB</span></span></b><br>\\n<b>1&#9;</b>classes are over; school lets out<br>\\n</p>\\n<blockquote style=\"border-left: 2px solid #00aaff; margin-left: 3px; padding-left: 1em; margin-top: 0px; margin-bottom: 0px;\"><p><span style=\"color:#00AAFF;\">&#20182;&#20497;&#23416;&#26657;&#19979;&#21320;&#20116;&#40670;</span><span style=\"color:#00AAFF;\"><b>&#25918;&#23416;</b></span><span style=\"color:#00AAFF;\">&#12290;</span><br>\\n<span style=\"font-weight:600;\">T&#257;men xu&#233;xi&#224;o xi&#224;w&#468; w&#468; di&#462;n </span><b>f&#224;ngxu&#233;</b><span style=\"font-weight:600;\">.</span><br>\\nTheir school lets out (or closes) at five p.m..<br>\\n</p>\\n</blockquote>\\n<blockquote style=\"border-left: 2px solid #00aaff; margin-left: 3px; padding-left: 1em; margin-top: 0px; margin-bottom: 0px;\"><p><span style=\"color:#00AAFF;\">&#23401;&#23376;&#20497;&#37117;</span><span style=\"color:#00AAFF;\"><b>&#25918;&#23416;</b></span><span style=\"color:#00AAFF;\">&#22238;&#23478;&#20102;&#12290;</span><br>\\n<span style=\"font-weight:600;\">H&#225;izi men d&#333;u </span><b>f&#224;ngxu&#233;</b><span style=\"font-weight:600;\"> hu&#237;ji&#257; le.</span><br>\\nThe children have all left school and gone home for the day.<br>\\n</p>\\n</blockquote>\\n<p><b>2&#9;</b><b><span style=\"font-size:0.80em;\"><span style=\"color:#B4B4B4;\">DIALECT</span></span></b><br>\\nhave a holiday or vacation</p>\\n</div><plecoentry c=\"00000000\" d=\"50414345\" e=\"013e3b00\" x=\"-1\"/>\\x1f放學\\x1f放学\\x1f<div align=\"left\"><p><b><span style=\"font-size:0.80em;\"><span style=\"color:#B4B4B4;\">VERB</span></span></b><br>\\n<b>1&#9;</b>classes are over; school lets out<br>\\n</p>\\n<blockquote style=\"border-left: 2px solid #00aaff; margin-left: 3px; padding-left: 1em; margin-top: 0px; margin-bottom: 0px;\"><p><span style=\"color:#00AAFF;\">&#20182;&#20497;&#23416;&#26657;&#19979;&#21320;&#20116;&#40670;</span><span style=\"color:#00AAFF;\"><b>&#25918;&#23416;</b></span><span style=\"color:#00AAFF;\">&#12290;</span><br>\\n<span style=\"font-weight:600;\">T&#257;men xu&#233;xi&#224;o xi&#224;w&#468; w&#468; di&#462;n </span><b>f&#224;ngxu&#233;</b><span style=\"font-weight:600;\">.</span><br>\\nTheir school lets out (or closes) at five p.m..<br>\\n</p>\\n</blockquote>\\n<blockquote style=\"border-left: 2px solid #00aaff; margin-left: 3px; padding-left: 1em; margin-top: 0px; margin-bottom: 0px;\"><p><span style=\"color:#00AAFF;\">&#23401;&#23376;&#20497;&#37117;</span><span style=\"color:#00AAFF;\"><b>&#25918;&#23416;</b></span><span style=\"color:#00AAFF;\">&#22238;&#23478;&#20102;&#12290;</span><br>\\n<span style=\"font-weight:600;\">H&#225;izi men d&#333;u </span><b>f&#224;ngxu&#233;</b><span style=\"font-weight:600;\"> hu&#237;ji&#257; le.</span><br>\\nThe children have all left school and gone home for the day.<br>\\n</p>\\n</blockquote>\\n<p><b>2&#9;</b><b><span style=\"font-size:0.80em;\"><span style=\"color:#B4B4B4;\">DIALECT</span></span></b><br>\\nhave a holiday or vacation</p>\\n</div>\\x1ff&#224;ngxu&#233;\\x1f103\\x1fWordEntry(sort_numbers=[103], tags=[\\'HSK_Level_1\\'])',\n",
       " ' HSK_Level_1 ')"
      ]
     },
     "execution_count": 40,
     "metadata": {},
     "output_type": "execute_result"
    }
   ],
   "source": [
    "__id, _flds, _tags = list(cur.execute('SELECT id, flds, tags FROM notes;'))[100]\n",
    "_flds, _tags"
   ]
  },
  {
   "cell_type": "code",
   "execution_count": null,
   "id": "9fa89386",
   "metadata": {},
   "outputs": [],
   "source": []
  },
  {
   "cell_type": "code",
   "execution_count": 41,
   "id": "5891b42b",
   "metadata": {},
   "outputs": [
    {
     "data": {
      "text/plain": [
       "('白\\x1f<div align=\"left\"><p><span style=\"font-size:32px\" ;=\"\">白</span><br>\\n<span style=\"color:#B4B4B4;\"><b><span style=\"font-size:0.80em;\">PY </span></b></span><span style=\"color:#80FF80;\"><span style=\"font-weight:600;\">bái</span></span></p>\\n</div><div align=\"left\"><p><b><span style=\"font-size:0.80em;\"><span style=\"color:#B4B4B4;\">ADJECTIVE</span></span></b><br>\\n<b>1\\t</b>white (opp. 黑)<br>\\n</p>\\n<blockquote style=\"border-left: 2px solid #00aaff; margin-left: 3px; padding-left: 1em; margin-top: 0px; margin-bottom: 0px;\"><p><span style=\"color:#00AAFF;\">幾根</span><span style=\"color:#00AAFF;\"><b>白</b></span><span style=\"color:#00AAFF;\">髮</span><br>\\n<span style=\"font-weight:600;\">Jǐ gēn </span><b>bái</b><span style=\"font-weight:600;\">fà</span><br>\\na few white (or grey) hairs<br>\\n</p>\\n</blockquote>\\n<blockquote style=\"border-left: 2px solid #00aaff; margin-left: 3px; padding-left: 1em; margin-top: 0px; margin-bottom: 0px;\"><p><span style=\"color:#00AAFF;\">皮膚</span><span style=\"color:#00AAFF;\"><b>白</b></span><br>\\n<span style=\"font-weight:600;\">pífū </span><b>bái</b><br>\\nhave a fair complexion<br>\\n</p>\\n</blockquote>\\n<blockquote style=\"border-left: 2px solid #00aaff; margin-left: 3px; padding-left: 1em; margin-top: 0px; margin-bottom: 0px;\"><p><span style=\"color:#00AAFF;\">他的臉色煞</span><span style=\"color:#00AAFF;\"><b>白</b></span><span style=\"color:#00AAFF;\">。</span><br>\\n<span style=\"font-weight:600;\">Tā de liǎnsè shà</span><b>bái</b><span style=\"font-weight:600;\">.</span><br>\\nHis face is as white as a sheet. or He is as pale as a ghost.<br>\\n</p>\\n</blockquote>\\n<p><b>2\\t</b>clear<br>\\n</p>\\n<blockquote style=\"border-left: 2px solid #00aaff; margin-left: 3px; padding-left: 1em; margin-top: 0px; margin-bottom: 0px;\"><p><span style=\"color:#00AAFF;\">真相大</span><span style=\"color:#00AAFF;\"><b>白</b></span><span style=\"color:#00AAFF;\">。</span><br>\\n<span style=\"font-weight:600;\">Zhēnxiàng dà </span><b>bái</b><span style=\"font-weight:600;\">.</span><br>\\nThe truth is out (or fully revealed).<br>\\n</p>\\n</blockquote>\\n<p><b>3\\t</b>pure; plain; blank<br>\\n</p>\\n<blockquote style=\"border-left: 2px solid #00aaff; margin-left: 3px; padding-left: 1em; margin-top: 0px; margin-bottom: 0px;\"><p><b><span style=\"color:#00AAFF;\">白</span></b><span style=\"color:#00AAFF;\">紙</span><br>\\n<b>Bái</b><span style=\"font-weight:600;\">zhǐ</span><br>\\nblank sheet of paper<br>\\n</p>\\n</blockquote>\\n<p><b>4\\t</b>White (as a symbol of political reaction)<br>\\n</p>\\n<blockquote style=\"border-left: 2px solid #00aaff; margin-left: 3px; padding-left: 1em; margin-top: 0px; margin-bottom: 0px;\"><p><b><span style=\"color:#00AAFF;\">白</span></b><span style=\"color:#00AAFF;\">軍</span><br>\\n<b>Bái</b><span style=\"font-weight:600;\">jūn</span><br>\\nWhite army<br>\\n</p>\\n</blockquote>\\n<p><b>5\\t</b>wrongly written or mispronounced<br>\\n</p>\\n<blockquote style=\"border-left: 2px solid #00aaff; margin-left: 3px; padding-left: 1em; margin-top: 0px; margin-bottom: 0px;\"><p><span style=\"color:#00AAFF;\">念</span><span style=\"color:#00AAFF;\"><b>白</b></span><span style=\"color:#00AAFF;\">字</span><br>\\n<span style=\"font-weight:600;\">niàn </span><b>bái</b><span style=\"font-weight:600;\">zì</span><br>\\nmispronounce a Chinese character<br>\\n</p>\\n</blockquote>\\n<p><b>6\\t</b>funeral</p>\\n<p><b><span style=\"font-size:0.80em;\"><span style=\"color:#B4B4B4;\">ADVERB</span></span></b><br>\\n<b>1\\t</b>in vain; to no purpose; for nothing<br>\\n</p>\\n<blockquote style=\"border-left: 2px solid #00aaff; margin-left: 3px; padding-left: 1em; margin-top: 0px; margin-bottom: 0px;\"><p><b><span style=\"color:#00AAFF;\">白</span></b><span style=\"color:#00AAFF;\">跑一趟</span><br>\\n<b>bái</b><span style=\"font-weight:600;\"> pǎo yī tàng</span><br>\\nmake a fruitless trip<br>\\n</p>\\n</blockquote>\\n<blockquote style=\"border-left: 2px solid #00aaff; margin-left: 3px; padding-left: 1em; margin-top: 0px; margin-bottom: 0px;\"><p><b><span style=\"color:#00AAFF;\">白</span></b><span style=\"color:#00AAFF;\">高興一場</span><br>\\n<b>bái</b><span style=\"font-weight:600;\"> gāoxìng yī chǎng</span><br>\\nhappy for nothing; misplaced joy<br>\\n</p>\\n</blockquote>\\n<blockquote style=\"border-left: 2px solid #00aaff; margin-left: 3px; padding-left: 1em; margin-top: 0px; margin-bottom: 0px;\"><p><b><span style=\"color:#00AAFF;\">白</span></b><span style=\"color:#00AAFF;\">忙了半天</span><br>\\n<b>bái</b><span style=\"font-weight:600;\"> máng le bàntiān</span><br>\\ngo to a lot of trouble for nothing<br>\\n</p>\\n</blockquote>\\n<blockquote style=\"border-left: 2px solid #00aaff; margin-left: 3px; padding-left: 1em; margin-top: 0px; margin-bottom: 0px;\"><p><span style=\"color:#00AAFF;\">我的活兒全</span><span style=\"color:#00AAFF;\"><b>白</b></span><span style=\"color:#00AAFF;\">幹了。</span><br>\\n<span style=\"font-weight:600;\">Wǒ de huór quán </span><b>bái</b><span style=\"font-weight:600;\"> gàn le.</span><br>\\nAll my work was wasted. or All my trouble went for nothing.<br>\\n</p>\\n</blockquote>\\n<p><b>2\\t</b>free of charge; gratis<br>\\n</p>\\n<blockquote style=\"border-left: 2px solid #00aaff; margin-left: 3px; padding-left: 1em; margin-top: 0px; margin-bottom: 0px;\"><p><b><span style=\"color:#00AAFF;\">白</span></b><span style=\"color:#00AAFF;\">送</span><br>\\n<b>bái</b><span style=\"font-weight:600;\">sòng</span><br>\\ngive away free (of charge)<br>\\n</p>\\n</blockquote>\\n<blockquote style=\"border-left: 2px solid #00aaff; margin-left: 3px; padding-left: 1em; margin-top: 0px; margin-bottom: 0px;\"><p><b><span style=\"color:#00AAFF;\">白</span></b><span style=\"color:#00AAFF;\">看戲</span><br>\\n<b>Bái</b><span style=\"font-weight:600;\"> kàn xì</span><br>\\ngo to the theater for free<br>\\n</p>\\n</blockquote>\\n<blockquote style=\"border-left: 2px solid #00aaff; margin-left: 3px; padding-left: 1em; margin-top: 0px; margin-bottom: 0px;\"><p><b><span style=\"color:#00AAFF;\">白</span></b><span style=\"color:#00AAFF;\">給我也不要。</span><br>\\n<b>Bái</b><span style=\"font-weight:600;\"> gěi wǒ yě bùyào.</span><br>\\nI don’t want it even for free.<br>\\n</p>\\n</blockquote>\\n<blockquote style=\"border-left: 2px solid #00aaff; margin-left: 3px; padding-left: 1em; margin-top: 0px; margin-bottom: 0px;\"><p><span style=\"color:#00AAFF;\">所有飲料都是</span><span style=\"color:#00AAFF;\"><b>白</b></span><span style=\"color:#00AAFF;\">喝的。</span><br>\\n<span style=\"font-weight:600;\">suǒyǒu yǐnliào dōu shì </span><b>bái</b><span style=\"font-weight:600;\"> hē de.</span><br>\\nAll the drinks are on the house. or Drinks are free.<br>\\n</p>\\n</blockquote>\\n<p><br>\\n<b><span style=\"font-size:0.80em;\"><span style=\"color:#B4B4B4;\">NOUN</span></span></b><br>\\n<b>1\\t</b>spoken part in opera, etc.<br>\\n</p>\\n<blockquote style=\"border-left: 2px solid #00aaff; margin-left: 3px; padding-left: 1em; margin-top: 0px; margin-bottom: 0px;\"><p><span style=\"color:#00AAFF;\">獨</span><span style=\"color:#00AAFF;\"><b>白</b></span><br>\\n<span style=\"font-weight:600;\">dú</span><b>bái</b><br>\\nsoliloquy<br>\\n</p>\\n</blockquote>\\n<blockquote style=\"border-left: 2px solid #00aaff; margin-left: 3px; padding-left: 1em; margin-top: 0px; margin-bottom: 0px;\"><p><span style=\"color:#00AAFF;\">對</span><span style=\"color:#00AAFF;\"><b>白</b></span><br>\\n<span style=\"font-weight:600;\">duì</span><b>bái</b><br>\\ndialogue<br>\\n</p>\\n</blockquote>\\n<p><b>2\\t</b>dialect<br>\\n</p>\\n<blockquote style=\"border-left: 2px solid #00aaff; margin-left: 3px; padding-left: 1em; margin-top: 0px; margin-bottom: 0px;\"><p><span style=\"color:#00AAFF;\">蘇</span><span style=\"color:#00AAFF;\"><b>白</b></span><br>\\n<span style=\"font-weight:600;\">Sū</span><b>bái</b><br>\\nSuzhou dialect (spoken mainly in Jiangsu Province)<br>\\n</p>\\n</blockquote>\\n<p><b>3\\t</b>(Bái)<br>\\na surname</p>\\n</div><plecoentry c=\"00000000\" d=\"50414345\" e=\"01038400\" x=\"-1\"></plecoentry>\\x1f白\\x1f白\\x1f<div align=\"left\"><p><b><span style=\"font-size:0.80em;\"><span style=\"color:#B4B4B4;\">ADJECTIVE</span></span></b><br>\\n<b>1\\t</b>white (opp. 黑)<br>\\n</p>\\n<blockquote style=\"border-left: 2px solid #00aaff; margin-left: 3px; padding-left: 1em; margin-top: 0px; margin-bottom: 0px;\"><p><span style=\"color:#00AAFF;\">幾根</span><span style=\"color:#00AAFF;\"><b>白</b></span><span style=\"color:#00AAFF;\">髮</span><br>\\n<span style=\"font-weight:600;\">Jǐ gēn </span><b>bái</b><span style=\"font-weight:600;\">fà</span><br>\\na few white (or grey) hairs<br>\\n</p>\\n</blockquote>\\n<blockquote style=\"border-left: 2px solid #00aaff; margin-left: 3px; padding-left: 1em; margin-top: 0px; margin-bottom: 0px;\"><p><span style=\"color:#00AAFF;\">皮膚</span><span style=\"color:#00AAFF;\"><b>白</b></span><br>\\n<span style=\"font-weight:600;\">pífū </span><b>bái</b><br>\\nhave a fair complexion<br>\\n</p>\\n</blockquote>\\n<blockquote style=\"border-left: 2px solid #00aaff; margin-left: 3px; padding-left: 1em; margin-top: 0px; margin-bottom: 0px;\"><p><span style=\"color:#00AAFF;\">他的臉色煞</span><span style=\"color:#00AAFF;\"><b>白</b></span><span style=\"color:#00AAFF;\">。</span><br>\\n<span style=\"font-weight:600;\">Tā de liǎnsè shà</span><b>bái</b><span style=\"font-weight:600;\">.</span><br>\\nHis face is as white as a sheet. or He is as pale as a ghost.<br>\\n</p>\\n</blockquote>\\n<p><b>2\\t</b>clear<br>\\n</p>\\n<blockquote style=\"border-left: 2px solid #00aaff; margin-left: 3px; padding-left: 1em; margin-top: 0px; margin-bottom: 0px;\"><p><span style=\"color:#00AAFF;\">真相大</span><span style=\"color:#00AAFF;\"><b>白</b></span><span style=\"color:#00AAFF;\">。</span><br>\\n<span style=\"font-weight:600;\">Zhēnxiàng dà </span><b>bái</b><span style=\"font-weight:600;\">.</span><br>\\nThe truth is out (or fully revealed).<br>\\n</p>\\n</blockquote>\\n<p><b>3\\t</b>pure; plain; blank<br>\\n</p>\\n<blockquote style=\"border-left: 2px solid #00aaff; margin-left: 3px; padding-left: 1em; margin-top: 0px; margin-bottom: 0px;\"><p><b><span style=\"color:#00AAFF;\">白</span></b><span style=\"color:#00AAFF;\">紙</span><br>\\n<b>Bái</b><span style=\"font-weight:600;\">zhǐ</span><br>\\nblank sheet of paper<br>\\n</p>\\n</blockquote>\\n<p><b>4\\t</b>White (as a symbol of political reaction)<br>\\n</p>\\n<blockquote style=\"border-left: 2px solid #00aaff; margin-left: 3px; padding-left: 1em; margin-top: 0px; margin-bottom: 0px;\"><p><b><span style=\"color:#00AAFF;\">白</span></b><span style=\"color:#00AAFF;\">軍</span><br>\\n<b>Bái</b><span style=\"font-weight:600;\">jūn</span><br>\\nWhite army<br>\\n</p>\\n</blockquote>\\n<p><b>5\\t</b>wrongly written or mispronounced<br>\\n</p>\\n<blockquote style=\"border-left: 2px solid #00aaff; margin-left: 3px; padding-left: 1em; margin-top: 0px; margin-bottom: 0px;\"><p><span style=\"color:#00AAFF;\">念</span><span style=\"color:#00AAFF;\"><b>白</b></span><span style=\"color:#00AAFF;\">字</span><br>\\n<span style=\"font-weight:600;\">niàn </span><b>bái</b><span style=\"font-weight:600;\">zì</span><br>\\nmispronounce a Chinese character<br>\\n</p>\\n</blockquote>\\n<p><b>6\\t</b>funeral</p>\\n<p><b><span style=\"font-size:0.80em;\"><span style=\"color:#B4B4B4;\">ADVERB</span></span></b><br>\\n<b>1\\t</b>in vain; to no purpose; for nothing<br>\\n</p>\\n<blockquote style=\"border-left: 2px solid #00aaff; margin-left: 3px; padding-left: 1em; margin-top: 0px; margin-bottom: 0px;\"><p><b><span style=\"color:#00AAFF;\">白</span></b><span style=\"color:#00AAFF;\">跑一趟</span><br>\\n<b>bái</b><span style=\"font-weight:600;\"> pǎo yī tàng</span><br>\\nmake a fruitless trip<br>\\n</p>\\n</blockquote>\\n<blockquote style=\"border-left: 2px solid #00aaff; margin-left: 3px; padding-left: 1em; margin-top: 0px; margin-bottom: 0px;\"><p><b><span style=\"color:#00AAFF;\">白</span></b><span style=\"color:#00AAFF;\">高興一場</span><br>\\n<b>bái</b><span style=\"font-weight:600;\"> gāoxìng yī chǎng</span><br>\\nhappy for nothing; misplaced joy<br>\\n</p>\\n</blockquote>\\n<blockquote style=\"border-left: 2px solid #00aaff; margin-left: 3px; padding-left: 1em; margin-top: 0px; margin-bottom: 0px;\"><p><b><span style=\"color:#00AAFF;\">白</span></b><span style=\"color:#00AAFF;\">忙了半天</span><br>\\n<b>bái</b><span style=\"font-weight:600;\"> máng le bàntiān</span><br>\\ngo to a lot of trouble for nothing<br>\\n</p>\\n</blockquote>\\n<blockquote style=\"border-left: 2px solid #00aaff; margin-left: 3px; padding-left: 1em; margin-top: 0px; margin-bottom: 0px;\"><p><span style=\"color:#00AAFF;\">我的活兒全</span><span style=\"color:#00AAFF;\"><b>白</b></span><span style=\"color:#00AAFF;\">幹了。</span><br>\\n<span style=\"font-weight:600;\">Wǒ de huór quán </span><b>bái</b><span style=\"font-weight:600;\"> gàn le.</span><br>\\nAll my work was wasted. or All my trouble went for nothing.<br>\\n</p>\\n</blockquote>\\n<p><b>2\\t</b>free of charge; gratis<br>\\n</p>\\n<blockquote style=\"border-left: 2px solid #00aaff; margin-left: 3px; padding-left: 1em; margin-top: 0px; margin-bottom: 0px;\"><p><b><span style=\"color:#00AAFF;\">白</span></b><span style=\"color:#00AAFF;\">送</span><br>\\n<b>bái</b><span style=\"font-weight:600;\">sòng</span><br>\\ngive away free (of charge)<br>\\n</p>\\n</blockquote>\\n<blockquote style=\"border-left: 2px solid #00aaff; margin-left: 3px; padding-left: 1em; margin-top: 0px; margin-bottom: 0px;\"><p><b><span style=\"color:#00AAFF;\">白</span></b><span style=\"color:#00AAFF;\">看戲</span><br>\\n<b>Bái</b><span style=\"font-weight:600;\"> kàn xì</span><br>\\ngo to the theater for free<br>\\n</p>\\n</blockquote>\\n<blockquote style=\"border-left: 2px solid #00aaff; margin-left: 3px; padding-left: 1em; margin-top: 0px; margin-bottom: 0px;\"><p><b><span style=\"color:#00AAFF;\">白</span></b><span style=\"color:#00AAFF;\">給我也不要。</span><br>\\n<b>Bái</b><span style=\"font-weight:600;\"> gěi wǒ yě bùyào.</span><br>\\nI don’t want it even for free.<br>\\n</p>\\n</blockquote>\\n<blockquote style=\"border-left: 2px solid #00aaff; margin-left: 3px; padding-left: 1em; margin-top: 0px; margin-bottom: 0px;\"><p><span style=\"color:#00AAFF;\">所有飲料都是</span><span style=\"color:#00AAFF;\"><b>白</b></span><span style=\"color:#00AAFF;\">喝的。</span><br>\\n<span style=\"font-weight:600;\">suǒyǒu yǐnliào dōu shì </span><b>bái</b><span style=\"font-weight:600;\"> hē de.</span><br>\\nAll the drinks are on the house. or Drinks are free.<br>\\n</p>\\n</blockquote>\\n<p><br>\\n<b><span style=\"font-size:0.80em;\"><span style=\"color:#B4B4B4;\">NOUN</span></span></b><br>\\n<b>1\\t</b>spoken part in opera, etc.<br>\\n</p>\\n<blockquote style=\"border-left: 2px solid #00aaff; margin-left: 3px; padding-left: 1em; margin-top: 0px; margin-bottom: 0px;\"><p><span style=\"color:#00AAFF;\">獨</span><span style=\"color:#00AAFF;\"><b>白</b></span><br>\\n<span style=\"font-weight:600;\">dú</span><b>bái</b><br>\\nsoliloquy<br>\\n</p>\\n</blockquote>\\n<blockquote style=\"border-left: 2px solid #00aaff; margin-left: 3px; padding-left: 1em; margin-top: 0px; margin-bottom: 0px;\"><p><span style=\"color:#00AAFF;\">對</span><span style=\"color:#00AAFF;\"><b>白</b></span><br>\\n<span style=\"font-weight:600;\">duì</span><b>bái</b><br>\\ndialogue<br>\\n</p>\\n</blockquote>\\n<p><b>2\\t</b>dialect<br>\\n</p>\\n<blockquote style=\"border-left: 2px solid #00aaff; margin-left: 3px; padding-left: 1em; margin-top: 0px; margin-bottom: 0px;\"><p><span style=\"color:#00AAFF;\">蘇</span><span style=\"color:#00AAFF;\"><b>白</b></span><br>\\n<span style=\"font-weight:600;\">Sū</span><b>bái</b><br>\\nSuzhou dialect (spoken mainly in Jiangsu Province)<br>\\n</p>\\n</blockquote>\\n<p><b>3\\t</b>(Bái)<br>\\na surname</p>\\n</div>\\x1fbái\\x1f5\\x1fWordEntry(sort_numbers=[5, 1275], tags=[\\'HSK_Level_1\\', \\'HSK_Level_3\\'])',\n",
       " ' HSK_Level_1 HSK_Level_3 ')"
      ]
     },
     "execution_count": 41,
     "metadata": {},
     "output_type": "execute_result"
    }
   ],
   "source": [
    "__id, _flds, _tags = list(cur.execute('SELECT id, flds, tags FROM notes;'))[5]\n",
    "_flds, _tags"
   ]
  },
  {
   "cell_type": "code",
   "execution_count": null,
   "id": "a82b3c9c",
   "metadata": {},
   "outputs": [],
   "source": []
  },
  {
   "cell_type": "code",
   "execution_count": null,
   "id": "5067ea56",
   "metadata": {},
   "outputs": [],
   "source": []
  },
  {
   "cell_type": "code",
   "execution_count": null,
   "id": "201525c8",
   "metadata": {},
   "outputs": [],
   "source": []
  },
  {
   "cell_type": "code",
   "execution_count": 47,
   "id": "26565f00",
   "metadata": {},
   "outputs": [],
   "source": [
    "con.close()"
   ]
  }
 ],
 "metadata": {
  "kernelspec": {
   "display_name": "Python 3 (ipykernel)",
   "language": "python",
   "name": "python3"
  },
  "language_info": {
   "codemirror_mode": {
    "name": "ipython",
    "version": 3
   },
   "file_extension": ".py",
   "mimetype": "text/x-python",
   "name": "python",
   "nbconvert_exporter": "python",
   "pygments_lexer": "ipython3",
   "version": "3.11.3"
  }
 },
 "nbformat": 4,
 "nbformat_minor": 5
}
