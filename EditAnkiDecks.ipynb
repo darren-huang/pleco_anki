{
 "cells": [
  {
   "cell_type": "code",
   "execution_count": 2,
   "id": "53dbd78b",
   "metadata": {
    "scrolled": true
   },
   "outputs": [
    {
     "name": "stdout",
     "output_type": "stream",
     "text": [
      "Collecting ankisync2\n",
      "  Downloading ankisync2-0.3.4-py3-none-any.whl (19 kB)\n",
      "Collecting peewee<4.0,>=3.9\n",
      "  Downloading peewee-3.15.4.tar.gz (860 kB)\n",
      "     ------------------------------------- 860.9/860.9 kB 13.7 MB/s eta 0:00:00\n",
      "  Preparing metadata (setup.py): started\n",
      "  Preparing metadata (setup.py): finished with status 'done'\n",
      "Collecting semver<3.0.0,>=2.13.0\n",
      "  Downloading semver-2.13.0-py2.py3-none-any.whl (12 kB)\n",
      "Collecting shortuuid<0.6.0,>=0.5.0\n",
      "  Downloading shortuuid-0.5.0.tar.gz (6.1 kB)\n",
      "  Preparing metadata (setup.py): started\n",
      "  Preparing metadata (setup.py): finished with status 'done'\n",
      "Installing collected packages: shortuuid, peewee, semver, ankisync2\n",
      "  Running setup.py install for shortuuid: started\n",
      "  Running setup.py install for shortuuid: finished with status 'done'\n",
      "  Running setup.py install for peewee: started\n",
      "  Running setup.py install for peewee: finished with status 'done'\n",
      "Successfully installed ankisync2-0.3.4 peewee-3.15.4 semver-2.13.0 shortuuid-0.5.0\n"
     ]
    },
    {
     "name": "stderr",
     "output_type": "stream",
     "text": [
      "  DEPRECATION: shortuuid is being installed using the legacy 'setup.py install' method, because it does not have a 'pyproject.toml' and the 'wheel' package is not installed. pip 23.1 will enforce this behaviour change. A possible replacement is to enable the '--use-pep517' option. Discussion can be found at https://github.com/pypa/pip/issues/8559\n",
      "  DEPRECATION: peewee is being installed using the legacy 'setup.py install' method, because it does not have a 'pyproject.toml' and the 'wheel' package is not installed. pip 23.1 will enforce this behaviour change. A possible replacement is to enable the '--use-pep517' option. Discussion can be found at https://github.com/pypa/pip/issues/8559\n",
      "  WARNING: The script pysemver.exe is installed in 'C:\\Users\\darre\\AppData\\Local\\Packages\\PythonSoftwareFoundation.Python.3.7_qbz5n2kfra8p0\\LocalCache\\local-packages\\Python37\\Scripts' which is not on PATH.\n",
      "  Consider adding this directory to PATH or, if you prefer to suppress this warning, use --no-warn-script-location.\n"
     ]
    }
   ],
   "source": [
    "!python3.7 -m pip install ankisync2"
   ]
  },
  {
   "cell_type": "code",
   "execution_count": 80,
   "id": "30cda92a",
   "metadata": {},
   "outputs": [],
   "source": [
    "from ankisync2 import Anki20"
   ]
  },
  {
   "cell_type": "code",
   "execution_count": 101,
   "id": "f4a8c345",
   "metadata": {},
   "outputs": [],
   "source": [
    "# from zipfile import ZipFile\n",
    "# import shutil\n",
    "# import os\n",
    "\n",
    "# apkg_file = \"pleco_import_old.apkg\"\n",
    "# experiement_folder = r\"pleco_imported_old_exp1\"\n",
    "\n",
    "# if os.path.isdir(experiement_folder):\n",
    "#     shutil.rmtree(experiement_folder)\n",
    " \n",
    "\n",
    "# with ZipFile(apkg_file) as zf:\n",
    "#     zf.extractall(experiement_folder)"
   ]
  },
  {
   "cell_type": "code",
   "execution_count": 102,
   "id": "b5efdeff",
   "metadata": {},
   "outputs": [],
   "source": [
    "from ankisync2 import Apkg\n",
    "apkg = Apkg(\"pleco_import_old.apkg\")"
   ]
  },
  {
   "cell_type": "code",
   "execution_count": 108,
   "id": "64c82789",
   "metadata": {},
   "outputs": [
    {
     "ename": "IntegrityError",
     "evalue": "NOT NULL constraint failed: col.tags",
     "output_type": "error",
     "traceback": [
      "\u001b[1;31m---------------------------------------------------------------------------\u001b[0m",
      "\u001b[1;31mIntegrityError\u001b[0m                            Traceback (most recent call last)",
      "\u001b[1;32m~\\AppData\\Local\\Packages\\PythonSoftwareFoundation.Python.3.7_qbz5n2kfra8p0\\LocalCache\\local-packages\\Python37\\site-packages\\peewee.py\u001b[0m in \u001b[0;36mexecute_sql\u001b[1;34m(self, sql, params, commit)\u001b[0m\n\u001b[0;32m   3236\u001b[0m             \u001b[1;32mtry\u001b[0m\u001b[1;33m:\u001b[0m\u001b[1;33m\u001b[0m\u001b[1;33m\u001b[0m\u001b[0m\n\u001b[1;32m-> 3237\u001b[1;33m                 \u001b[0mcursor\u001b[0m\u001b[1;33m.\u001b[0m\u001b[0mexecute\u001b[0m\u001b[1;33m(\u001b[0m\u001b[0msql\u001b[0m\u001b[1;33m,\u001b[0m \u001b[0mparams\u001b[0m \u001b[1;32mor\u001b[0m \u001b[1;33m(\u001b[0m\u001b[1;33m)\u001b[0m\u001b[1;33m)\u001b[0m\u001b[1;33m\u001b[0m\u001b[1;33m\u001b[0m\u001b[0m\n\u001b[0m\u001b[0;32m   3238\u001b[0m             \u001b[1;32mexcept\u001b[0m \u001b[0mException\u001b[0m\u001b[1;33m:\u001b[0m\u001b[1;33m\u001b[0m\u001b[1;33m\u001b[0m\u001b[0m\n",
      "\u001b[1;31mIntegrityError\u001b[0m: NOT NULL constraint failed: col.tags",
      "\nDuring handling of the above exception, another exception occurred:\n",
      "\u001b[1;31mIntegrityError\u001b[0m                            Traceback (most recent call last)",
      "\u001b[1;32m~\\AppData\\Local\\Temp\\ipykernel_31220\\1996255804.py\u001b[0m in \u001b[0;36m<module>\u001b[1;34m\u001b[0m\n\u001b[1;32m----> 1\u001b[1;33m \u001b[0mapkg\u001b[0m\u001b[1;33m.\u001b[0m\u001b[0mexport\u001b[0m\u001b[1;33m(\u001b[0m\u001b[1;34m\"test_export.apkg\"\u001b[0m\u001b[1;33m)\u001b[0m\u001b[1;33m\u001b[0m\u001b[1;33m\u001b[0m\u001b[0m\n\u001b[0m",
      "\u001b[1;32m~\\AppData\\Local\\Packages\\PythonSoftwareFoundation.Python.3.7_qbz5n2kfra8p0\\LocalCache\\local-packages\\Python37\\site-packages\\ankisync2\\apkg.py\u001b[0m in \u001b[0;36mexport\u001b[1;34m(self, filename)\u001b[0m\n\u001b[0;32m     80\u001b[0m         )\n\u001b[0;32m     81\u001b[0m \u001b[1;33m\u001b[0m\u001b[0m\n\u001b[1;32m---> 82\u001b[1;33m         \u001b[0mAnki20\u001b[0m\u001b[1;33m(\u001b[0m\u001b[0mself\u001b[0m\u001b[1;33m.\u001b[0m\u001b[0morignal_anki2\u001b[0m\u001b[1;33m)\u001b[0m\u001b[1;33m.\u001b[0m\u001b[0mfinalize\u001b[0m\u001b[1;33m(\u001b[0m\u001b[1;33m)\u001b[0m\u001b[1;33m\u001b[0m\u001b[1;33m\u001b[0m\u001b[0m\n\u001b[0m\u001b[0;32m     83\u001b[0m \u001b[1;33m\u001b[0m\u001b[0m\n\u001b[0;32m     84\u001b[0m         \u001b[1;32mwith\u001b[0m \u001b[0mZipFile\u001b[0m\u001b[1;33m(\u001b[0m\u001b[0mfilename\u001b[0m\u001b[1;33m,\u001b[0m \u001b[1;34m\"w\"\u001b[0m\u001b[1;33m)\u001b[0m \u001b[1;32mas\u001b[0m \u001b[0mzf\u001b[0m\u001b[1;33m:\u001b[0m\u001b[1;33m\u001b[0m\u001b[1;33m\u001b[0m\u001b[0m\n",
      "\u001b[1;32m~\\AppData\\Local\\Packages\\PythonSoftwareFoundation.Python.3.7_qbz5n2kfra8p0\\LocalCache\\local-packages\\Python37\\site-packages\\ankisync2\\anki20\\__init__.py\u001b[0m in \u001b[0;36mfinalize\u001b[1;34m(self)\u001b[0m\n\u001b[0;32m    109\u001b[0m         \u001b[0mc\u001b[0m\u001b[1;33m.\u001b[0m\u001b[0mdecks\u001b[0m \u001b[1;33m=\u001b[0m \u001b[0mdecks\u001b[0m\u001b[1;33m\u001b[0m\u001b[1;33m\u001b[0m\u001b[0m\n\u001b[0;32m    110\u001b[0m         \u001b[0mc\u001b[0m\u001b[1;33m.\u001b[0m\u001b[0mmodels\u001b[0m \u001b[1;33m=\u001b[0m \u001b[0mmodels\u001b[0m\u001b[1;33m\u001b[0m\u001b[1;33m\u001b[0m\u001b[0m\n\u001b[1;32m--> 111\u001b[1;33m         \u001b[0mc\u001b[0m\u001b[1;33m.\u001b[0m\u001b[0msave\u001b[0m\u001b[1;33m(\u001b[0m\u001b[1;33m)\u001b[0m\u001b[1;33m\u001b[0m\u001b[1;33m\u001b[0m\u001b[0m\n\u001b[0m\u001b[0;32m    112\u001b[0m \u001b[1;33m\u001b[0m\u001b[0m\n\u001b[0;32m    113\u001b[0m         \u001b[0mdb\u001b[0m\u001b[1;33m.\u001b[0m\u001b[0mdatabase\u001b[0m\u001b[1;33m.\u001b[0m\u001b[0mdrop_tables\u001b[0m\u001b[1;33m(\u001b[0m\u001b[1;33m[\u001b[0m\u001b[0mdb\u001b[0m\u001b[1;33m.\u001b[0m\u001b[0mDecks\u001b[0m\u001b[1;33m,\u001b[0m \u001b[0mdb\u001b[0m\u001b[1;33m.\u001b[0m\u001b[0mModels\u001b[0m\u001b[1;33m,\u001b[0m \u001b[0mdb\u001b[0m\u001b[1;33m.\u001b[0m\u001b[0mTemplates\u001b[0m\u001b[1;33m]\u001b[0m\u001b[1;33m)\u001b[0m\u001b[1;33m\u001b[0m\u001b[1;33m\u001b[0m\u001b[0m\n",
      "\u001b[1;32m~\\AppData\\Local\\Packages\\PythonSoftwareFoundation.Python.3.7_qbz5n2kfra8p0\\LocalCache\\local-packages\\Python37\\site-packages\\playhouse\\signals.py\u001b[0m in \u001b[0;36msave\u001b[1;34m(self, *args, **kwargs)\u001b[0m\n\u001b[0;32m     69\u001b[0m         \u001b[0mcreated\u001b[0m \u001b[1;33m=\u001b[0m \u001b[0mkwargs\u001b[0m\u001b[1;33m.\u001b[0m\u001b[0mget\u001b[0m\u001b[1;33m(\u001b[0m\u001b[1;34m'force_insert'\u001b[0m\u001b[1;33m,\u001b[0m \u001b[1;32mFalse\u001b[0m\u001b[1;33m)\u001b[0m \u001b[1;32mor\u001b[0m \u001b[1;32mnot\u001b[0m \u001b[0mbool\u001b[0m\u001b[1;33m(\u001b[0m\u001b[0mpk_value\u001b[0m\u001b[1;33m)\u001b[0m\u001b[1;33m\u001b[0m\u001b[1;33m\u001b[0m\u001b[0m\n\u001b[0;32m     70\u001b[0m         \u001b[0mpre_save\u001b[0m\u001b[1;33m.\u001b[0m\u001b[0msend\u001b[0m\u001b[1;33m(\u001b[0m\u001b[0mself\u001b[0m\u001b[1;33m,\u001b[0m \u001b[0mcreated\u001b[0m\u001b[1;33m=\u001b[0m\u001b[0mcreated\u001b[0m\u001b[1;33m)\u001b[0m\u001b[1;33m\u001b[0m\u001b[1;33m\u001b[0m\u001b[0m\n\u001b[1;32m---> 71\u001b[1;33m         \u001b[0mret\u001b[0m \u001b[1;33m=\u001b[0m \u001b[0msuper\u001b[0m\u001b[1;33m(\u001b[0m\u001b[0mModel\u001b[0m\u001b[1;33m,\u001b[0m \u001b[0mself\u001b[0m\u001b[1;33m)\u001b[0m\u001b[1;33m.\u001b[0m\u001b[0msave\u001b[0m\u001b[1;33m(\u001b[0m\u001b[1;33m*\u001b[0m\u001b[0margs\u001b[0m\u001b[1;33m,\u001b[0m \u001b[1;33m**\u001b[0m\u001b[0mkwargs\u001b[0m\u001b[1;33m)\u001b[0m\u001b[1;33m\u001b[0m\u001b[1;33m\u001b[0m\u001b[0m\n\u001b[0m\u001b[0;32m     72\u001b[0m         \u001b[0mpost_save\u001b[0m\u001b[1;33m.\u001b[0m\u001b[0msend\u001b[0m\u001b[1;33m(\u001b[0m\u001b[0mself\u001b[0m\u001b[1;33m,\u001b[0m \u001b[0mcreated\u001b[0m\u001b[1;33m=\u001b[0m\u001b[0mcreated\u001b[0m\u001b[1;33m)\u001b[0m\u001b[1;33m\u001b[0m\u001b[1;33m\u001b[0m\u001b[0m\n\u001b[0;32m     73\u001b[0m         \u001b[1;32mreturn\u001b[0m \u001b[0mret\u001b[0m\u001b[1;33m\u001b[0m\u001b[1;33m\u001b[0m\u001b[0m\n",
      "\u001b[1;32m~\\AppData\\Local\\Packages\\PythonSoftwareFoundation.Python.3.7_qbz5n2kfra8p0\\LocalCache\\local-packages\\Python37\\site-packages\\peewee.py\u001b[0m in \u001b[0;36msave\u001b[1;34m(self, force_insert, only)\u001b[0m\n\u001b[0;32m   6738\u001b[0m             \u001b[1;32mif\u001b[0m \u001b[1;32mnot\u001b[0m \u001b[0mfield_dict\u001b[0m\u001b[1;33m:\u001b[0m\u001b[1;33m\u001b[0m\u001b[1;33m\u001b[0m\u001b[0m\n\u001b[0;32m   6739\u001b[0m                 \u001b[1;32mraise\u001b[0m \u001b[0mValueError\u001b[0m\u001b[1;33m(\u001b[0m\u001b[1;34m'no data to save!'\u001b[0m\u001b[1;33m)\u001b[0m\u001b[1;33m\u001b[0m\u001b[1;33m\u001b[0m\u001b[0m\n\u001b[1;32m-> 6740\u001b[1;33m             \u001b[0mrows\u001b[0m \u001b[1;33m=\u001b[0m \u001b[0mself\u001b[0m\u001b[1;33m.\u001b[0m\u001b[0mupdate\u001b[0m\u001b[1;33m(\u001b[0m\u001b[1;33m**\u001b[0m\u001b[0mfield_dict\u001b[0m\u001b[1;33m)\u001b[0m\u001b[1;33m.\u001b[0m\u001b[0mwhere\u001b[0m\u001b[1;33m(\u001b[0m\u001b[0mself\u001b[0m\u001b[1;33m.\u001b[0m\u001b[0m_pk_expr\u001b[0m\u001b[1;33m(\u001b[0m\u001b[1;33m)\u001b[0m\u001b[1;33m)\u001b[0m\u001b[1;33m.\u001b[0m\u001b[0mexecute\u001b[0m\u001b[1;33m(\u001b[0m\u001b[1;33m)\u001b[0m\u001b[1;33m\u001b[0m\u001b[1;33m\u001b[0m\u001b[0m\n\u001b[0m\u001b[0;32m   6741\u001b[0m         \u001b[1;32melif\u001b[0m \u001b[0mpk_field\u001b[0m \u001b[1;32mis\u001b[0m \u001b[1;32mnot\u001b[0m \u001b[1;32mNone\u001b[0m\u001b[1;33m:\u001b[0m\u001b[1;33m\u001b[0m\u001b[1;33m\u001b[0m\u001b[0m\n\u001b[0;32m   6742\u001b[0m             \u001b[0mpk\u001b[0m \u001b[1;33m=\u001b[0m \u001b[0mself\u001b[0m\u001b[1;33m.\u001b[0m\u001b[0minsert\u001b[0m\u001b[1;33m(\u001b[0m\u001b[1;33m**\u001b[0m\u001b[0mfield_dict\u001b[0m\u001b[1;33m)\u001b[0m\u001b[1;33m.\u001b[0m\u001b[0mexecute\u001b[0m\u001b[1;33m(\u001b[0m\u001b[1;33m)\u001b[0m\u001b[1;33m\u001b[0m\u001b[1;33m\u001b[0m\u001b[0m\n",
      "\u001b[1;32m~\\AppData\\Local\\Packages\\PythonSoftwareFoundation.Python.3.7_qbz5n2kfra8p0\\LocalCache\\local-packages\\Python37\\site-packages\\peewee.py\u001b[0m in \u001b[0;36minner\u001b[1;34m(self, database, *args, **kwargs)\u001b[0m\n\u001b[0;32m   1960\u001b[0m             raise InterfaceError('Query must be bound to a database in order '\n\u001b[0;32m   1961\u001b[0m                                  'to call \"%s\".' % method.__name__)\n\u001b[1;32m-> 1962\u001b[1;33m         \u001b[1;32mreturn\u001b[0m \u001b[0mmethod\u001b[0m\u001b[1;33m(\u001b[0m\u001b[0mself\u001b[0m\u001b[1;33m,\u001b[0m \u001b[0mdatabase\u001b[0m\u001b[1;33m,\u001b[0m \u001b[1;33m*\u001b[0m\u001b[0margs\u001b[0m\u001b[1;33m,\u001b[0m \u001b[1;33m**\u001b[0m\u001b[0mkwargs\u001b[0m\u001b[1;33m)\u001b[0m\u001b[1;33m\u001b[0m\u001b[1;33m\u001b[0m\u001b[0m\n\u001b[0m\u001b[0;32m   1963\u001b[0m     \u001b[1;32mreturn\u001b[0m \u001b[0minner\u001b[0m\u001b[1;33m\u001b[0m\u001b[1;33m\u001b[0m\u001b[0m\n\u001b[0;32m   1964\u001b[0m \u001b[1;33m\u001b[0m\u001b[0m\n",
      "\u001b[1;32m~\\AppData\\Local\\Packages\\PythonSoftwareFoundation.Python.3.7_qbz5n2kfra8p0\\LocalCache\\local-packages\\Python37\\site-packages\\peewee.py\u001b[0m in \u001b[0;36mexecute\u001b[1;34m(self, database)\u001b[0m\n\u001b[0;32m   2031\u001b[0m     \u001b[1;33m@\u001b[0m\u001b[0mdatabase_required\u001b[0m\u001b[1;33m\u001b[0m\u001b[1;33m\u001b[0m\u001b[0m\n\u001b[0;32m   2032\u001b[0m     \u001b[1;32mdef\u001b[0m \u001b[0mexecute\u001b[0m\u001b[1;33m(\u001b[0m\u001b[0mself\u001b[0m\u001b[1;33m,\u001b[0m \u001b[0mdatabase\u001b[0m\u001b[1;33m)\u001b[0m\u001b[1;33m:\u001b[0m\u001b[1;33m\u001b[0m\u001b[1;33m\u001b[0m\u001b[0m\n\u001b[1;32m-> 2033\u001b[1;33m         \u001b[1;32mreturn\u001b[0m \u001b[0mself\u001b[0m\u001b[1;33m.\u001b[0m\u001b[0m_execute\u001b[0m\u001b[1;33m(\u001b[0m\u001b[0mdatabase\u001b[0m\u001b[1;33m)\u001b[0m\u001b[1;33m\u001b[0m\u001b[1;33m\u001b[0m\u001b[0m\n\u001b[0m\u001b[0;32m   2034\u001b[0m \u001b[1;33m\u001b[0m\u001b[0m\n\u001b[0;32m   2035\u001b[0m     \u001b[1;32mdef\u001b[0m \u001b[0m_execute\u001b[0m\u001b[1;33m(\u001b[0m\u001b[0mself\u001b[0m\u001b[1;33m,\u001b[0m \u001b[0mdatabase\u001b[0m\u001b[1;33m)\u001b[0m\u001b[1;33m:\u001b[0m\u001b[1;33m\u001b[0m\u001b[1;33m\u001b[0m\u001b[0m\n",
      "\u001b[1;32m~\\AppData\\Local\\Packages\\PythonSoftwareFoundation.Python.3.7_qbz5n2kfra8p0\\LocalCache\\local-packages\\Python37\\site-packages\\peewee.py\u001b[0m in \u001b[0;36m_execute\u001b[1;34m(self, database)\u001b[0m\n\u001b[0;32m   2549\u001b[0m             \u001b[0mcursor\u001b[0m \u001b[1;33m=\u001b[0m \u001b[0mself\u001b[0m\u001b[1;33m.\u001b[0m\u001b[0mexecute_returning\u001b[0m\u001b[1;33m(\u001b[0m\u001b[0mdatabase\u001b[0m\u001b[1;33m)\u001b[0m\u001b[1;33m\u001b[0m\u001b[1;33m\u001b[0m\u001b[0m\n\u001b[0;32m   2550\u001b[0m         \u001b[1;32melse\u001b[0m\u001b[1;33m:\u001b[0m\u001b[1;33m\u001b[0m\u001b[1;33m\u001b[0m\u001b[0m\n\u001b[1;32m-> 2551\u001b[1;33m             \u001b[0mcursor\u001b[0m \u001b[1;33m=\u001b[0m \u001b[0mdatabase\u001b[0m\u001b[1;33m.\u001b[0m\u001b[0mexecute\u001b[0m\u001b[1;33m(\u001b[0m\u001b[0mself\u001b[0m\u001b[1;33m)\u001b[0m\u001b[1;33m\u001b[0m\u001b[1;33m\u001b[0m\u001b[0m\n\u001b[0m\u001b[0;32m   2552\u001b[0m         \u001b[1;32mreturn\u001b[0m \u001b[0mself\u001b[0m\u001b[1;33m.\u001b[0m\u001b[0mhandle_result\u001b[0m\u001b[1;33m(\u001b[0m\u001b[0mdatabase\u001b[0m\u001b[1;33m,\u001b[0m \u001b[0mcursor\u001b[0m\u001b[1;33m)\u001b[0m\u001b[1;33m\u001b[0m\u001b[1;33m\u001b[0m\u001b[0m\n\u001b[0;32m   2553\u001b[0m \u001b[1;33m\u001b[0m\u001b[0m\n",
      "\u001b[1;32m~\\AppData\\Local\\Packages\\PythonSoftwareFoundation.Python.3.7_qbz5n2kfra8p0\\LocalCache\\local-packages\\Python37\\site-packages\\peewee.py\u001b[0m in \u001b[0;36mexecute\u001b[1;34m(self, query, commit, **context_options)\u001b[0m\n\u001b[0;32m   3248\u001b[0m         \u001b[0mctx\u001b[0m \u001b[1;33m=\u001b[0m \u001b[0mself\u001b[0m\u001b[1;33m.\u001b[0m\u001b[0mget_sql_context\u001b[0m\u001b[1;33m(\u001b[0m\u001b[1;33m**\u001b[0m\u001b[0mcontext_options\u001b[0m\u001b[1;33m)\u001b[0m\u001b[1;33m\u001b[0m\u001b[1;33m\u001b[0m\u001b[0m\n\u001b[0;32m   3249\u001b[0m         \u001b[0msql\u001b[0m\u001b[1;33m,\u001b[0m \u001b[0mparams\u001b[0m \u001b[1;33m=\u001b[0m \u001b[0mctx\u001b[0m\u001b[1;33m.\u001b[0m\u001b[0msql\u001b[0m\u001b[1;33m(\u001b[0m\u001b[0mquery\u001b[0m\u001b[1;33m)\u001b[0m\u001b[1;33m.\u001b[0m\u001b[0mquery\u001b[0m\u001b[1;33m(\u001b[0m\u001b[1;33m)\u001b[0m\u001b[1;33m\u001b[0m\u001b[1;33m\u001b[0m\u001b[0m\n\u001b[1;32m-> 3250\u001b[1;33m         \u001b[1;32mreturn\u001b[0m \u001b[0mself\u001b[0m\u001b[1;33m.\u001b[0m\u001b[0mexecute_sql\u001b[0m\u001b[1;33m(\u001b[0m\u001b[0msql\u001b[0m\u001b[1;33m,\u001b[0m \u001b[0mparams\u001b[0m\u001b[1;33m,\u001b[0m \u001b[0mcommit\u001b[0m\u001b[1;33m=\u001b[0m\u001b[0mcommit\u001b[0m\u001b[1;33m)\u001b[0m\u001b[1;33m\u001b[0m\u001b[1;33m\u001b[0m\u001b[0m\n\u001b[0m\u001b[0;32m   3251\u001b[0m \u001b[1;33m\u001b[0m\u001b[0m\n\u001b[0;32m   3252\u001b[0m     \u001b[1;32mdef\u001b[0m \u001b[0mget_context_options\u001b[0m\u001b[1;33m(\u001b[0m\u001b[0mself\u001b[0m\u001b[1;33m)\u001b[0m\u001b[1;33m:\u001b[0m\u001b[1;33m\u001b[0m\u001b[1;33m\u001b[0m\u001b[0m\n",
      "\u001b[1;32m~\\AppData\\Local\\Packages\\PythonSoftwareFoundation.Python.3.7_qbz5n2kfra8p0\\LocalCache\\local-packages\\Python37\\site-packages\\peewee.py\u001b[0m in \u001b[0;36mexecute_sql\u001b[1;34m(self, sql, params, commit)\u001b[0m\n\u001b[0;32m   3242\u001b[0m             \u001b[1;32melse\u001b[0m\u001b[1;33m:\u001b[0m\u001b[1;33m\u001b[0m\u001b[1;33m\u001b[0m\u001b[0m\n\u001b[0;32m   3243\u001b[0m                 \u001b[1;32mif\u001b[0m \u001b[0mcommit\u001b[0m \u001b[1;32mand\u001b[0m \u001b[1;32mnot\u001b[0m \u001b[0mself\u001b[0m\u001b[1;33m.\u001b[0m\u001b[0min_transaction\u001b[0m\u001b[1;33m(\u001b[0m\u001b[1;33m)\u001b[0m\u001b[1;33m:\u001b[0m\u001b[1;33m\u001b[0m\u001b[1;33m\u001b[0m\u001b[0m\n\u001b[1;32m-> 3244\u001b[1;33m                     \u001b[0mself\u001b[0m\u001b[1;33m.\u001b[0m\u001b[0mcommit\u001b[0m\u001b[1;33m(\u001b[0m\u001b[1;33m)\u001b[0m\u001b[1;33m\u001b[0m\u001b[1;33m\u001b[0m\u001b[0m\n\u001b[0m\u001b[0;32m   3245\u001b[0m         \u001b[1;32mreturn\u001b[0m \u001b[0mcursor\u001b[0m\u001b[1;33m\u001b[0m\u001b[1;33m\u001b[0m\u001b[0m\n\u001b[0;32m   3246\u001b[0m \u001b[1;33m\u001b[0m\u001b[0m\n",
      "\u001b[1;32m~\\AppData\\Local\\Packages\\PythonSoftwareFoundation.Python.3.7_qbz5n2kfra8p0\\LocalCache\\local-packages\\Python37\\site-packages\\peewee.py\u001b[0m in \u001b[0;36m__exit__\u001b[1;34m(self, exc_type, exc_value, traceback)\u001b[0m\n\u001b[0;32m   3008\u001b[0m             \u001b[0mnew_type\u001b[0m \u001b[1;33m=\u001b[0m \u001b[0mself\u001b[0m\u001b[1;33m.\u001b[0m\u001b[0mexceptions\u001b[0m\u001b[1;33m[\u001b[0m\u001b[0mexc_type\u001b[0m\u001b[1;33m.\u001b[0m\u001b[0m__name__\u001b[0m\u001b[1;33m]\u001b[0m\u001b[1;33m\u001b[0m\u001b[1;33m\u001b[0m\u001b[0m\n\u001b[0;32m   3009\u001b[0m             \u001b[0mexc_args\u001b[0m \u001b[1;33m=\u001b[0m \u001b[0mexc_value\u001b[0m\u001b[1;33m.\u001b[0m\u001b[0margs\u001b[0m\u001b[1;33m\u001b[0m\u001b[1;33m\u001b[0m\u001b[0m\n\u001b[1;32m-> 3010\u001b[1;33m             \u001b[0mreraise\u001b[0m\u001b[1;33m(\u001b[0m\u001b[0mnew_type\u001b[0m\u001b[1;33m,\u001b[0m \u001b[0mnew_type\u001b[0m\u001b[1;33m(\u001b[0m\u001b[0mexc_value\u001b[0m\u001b[1;33m,\u001b[0m \u001b[1;33m*\u001b[0m\u001b[0mexc_args\u001b[0m\u001b[1;33m)\u001b[0m\u001b[1;33m,\u001b[0m \u001b[0mtraceback\u001b[0m\u001b[1;33m)\u001b[0m\u001b[1;33m\u001b[0m\u001b[1;33m\u001b[0m\u001b[0m\n\u001b[0m\u001b[0;32m   3011\u001b[0m \u001b[1;33m\u001b[0m\u001b[0m\n\u001b[0;32m   3012\u001b[0m \u001b[1;33m\u001b[0m\u001b[0m\n",
      "\u001b[1;32m~\\AppData\\Local\\Packages\\PythonSoftwareFoundation.Python.3.7_qbz5n2kfra8p0\\LocalCache\\local-packages\\Python37\\site-packages\\peewee.py\u001b[0m in \u001b[0;36mreraise\u001b[1;34m(tp, value, tb)\u001b[0m\n\u001b[0;32m    190\u001b[0m     \u001b[1;32mdef\u001b[0m \u001b[0mreraise\u001b[0m\u001b[1;33m(\u001b[0m\u001b[0mtp\u001b[0m\u001b[1;33m,\u001b[0m \u001b[0mvalue\u001b[0m\u001b[1;33m,\u001b[0m \u001b[0mtb\u001b[0m\u001b[1;33m=\u001b[0m\u001b[1;32mNone\u001b[0m\u001b[1;33m)\u001b[0m\u001b[1;33m:\u001b[0m\u001b[1;33m\u001b[0m\u001b[1;33m\u001b[0m\u001b[0m\n\u001b[0;32m    191\u001b[0m         \u001b[1;32mif\u001b[0m \u001b[0mvalue\u001b[0m\u001b[1;33m.\u001b[0m\u001b[0m__traceback__\u001b[0m \u001b[1;32mis\u001b[0m \u001b[1;32mnot\u001b[0m \u001b[0mtb\u001b[0m\u001b[1;33m:\u001b[0m\u001b[1;33m\u001b[0m\u001b[1;33m\u001b[0m\u001b[0m\n\u001b[1;32m--> 192\u001b[1;33m             \u001b[1;32mraise\u001b[0m \u001b[0mvalue\u001b[0m\u001b[1;33m.\u001b[0m\u001b[0mwith_traceback\u001b[0m\u001b[1;33m(\u001b[0m\u001b[0mtb\u001b[0m\u001b[1;33m)\u001b[0m\u001b[1;33m\u001b[0m\u001b[1;33m\u001b[0m\u001b[0m\n\u001b[0m\u001b[0;32m    193\u001b[0m         \u001b[1;32mraise\u001b[0m \u001b[0mvalue\u001b[0m\u001b[1;33m\u001b[0m\u001b[1;33m\u001b[0m\u001b[0m\n\u001b[0;32m    194\u001b[0m \u001b[1;33m\u001b[0m\u001b[0m\n",
      "\u001b[1;32m~\\AppData\\Local\\Packages\\PythonSoftwareFoundation.Python.3.7_qbz5n2kfra8p0\\LocalCache\\local-packages\\Python37\\site-packages\\peewee.py\u001b[0m in \u001b[0;36mexecute_sql\u001b[1;34m(self, sql, params, commit)\u001b[0m\n\u001b[0;32m   3235\u001b[0m             \u001b[0mcursor\u001b[0m \u001b[1;33m=\u001b[0m \u001b[0mself\u001b[0m\u001b[1;33m.\u001b[0m\u001b[0mcursor\u001b[0m\u001b[1;33m(\u001b[0m\u001b[0mcommit\u001b[0m\u001b[1;33m)\u001b[0m\u001b[1;33m\u001b[0m\u001b[1;33m\u001b[0m\u001b[0m\n\u001b[0;32m   3236\u001b[0m             \u001b[1;32mtry\u001b[0m\u001b[1;33m:\u001b[0m\u001b[1;33m\u001b[0m\u001b[1;33m\u001b[0m\u001b[0m\n\u001b[1;32m-> 3237\u001b[1;33m                 \u001b[0mcursor\u001b[0m\u001b[1;33m.\u001b[0m\u001b[0mexecute\u001b[0m\u001b[1;33m(\u001b[0m\u001b[0msql\u001b[0m\u001b[1;33m,\u001b[0m \u001b[0mparams\u001b[0m \u001b[1;32mor\u001b[0m \u001b[1;33m(\u001b[0m\u001b[1;33m)\u001b[0m\u001b[1;33m)\u001b[0m\u001b[1;33m\u001b[0m\u001b[1;33m\u001b[0m\u001b[0m\n\u001b[0m\u001b[0;32m   3238\u001b[0m             \u001b[1;32mexcept\u001b[0m \u001b[0mException\u001b[0m\u001b[1;33m:\u001b[0m\u001b[1;33m\u001b[0m\u001b[1;33m\u001b[0m\u001b[0m\n\u001b[0;32m   3239\u001b[0m                 \u001b[1;32mif\u001b[0m \u001b[0mself\u001b[0m\u001b[1;33m.\u001b[0m\u001b[0mautorollback\u001b[0m \u001b[1;32mand\u001b[0m \u001b[1;32mnot\u001b[0m \u001b[0mself\u001b[0m\u001b[1;33m.\u001b[0m\u001b[0min_transaction\u001b[0m\u001b[1;33m(\u001b[0m\u001b[1;33m)\u001b[0m\u001b[1;33m:\u001b[0m\u001b[1;33m\u001b[0m\u001b[1;33m\u001b[0m\u001b[0m\n",
      "\u001b[1;31mIntegrityError\u001b[0m: NOT NULL constraint failed: col.tags"
     ]
    }
   ],
   "source": [
    "apkg.export(\"test_export.apkg\")"
   ]
  },
  {
   "cell_type": "code",
   "execution_count": 107,
   "id": "ba0f65f6",
   "metadata": {},
   "outputs": [
    {
     "data": {
      "text/plain": [
       "{'愛': 'Front',\n",
       " '<div align=\"left\"><p><span style=\"font-size:32px\";>&#24859;&#12308;&#29233;&#12309;</span><br>\\n<span style=\"color:#B4B4B4;\"><b><span style=\"font-size:0.80em;\">PY </span></b></span><span style=\"color:#DF80FF;\"><span style=\"font-weight:600;\">&#224;i</span></span></p>\\n</div><div align=\"left\"><p><b><span style=\"font-size:0.80em;\"><span style=\"color:#B4B4B4;\">NOUN</span></span></b><br>\\nlove; affection<br>\\n</p>\\n<blockquote style=\"border-left: 2px solid #00aaff; margin-left: 3px; padding-left: 1em; margin-top: 0px; margin-bottom: 0px;\"><p><span style=\"color:#00AAFF;\">&#27597;</span><span style=\"color:#00AAFF;\"><b>&#24859;</b></span><br>\\n<span style=\"font-weight:600;\">m&#468;\\'</span><b>&#224;i</b><br>\\nmaternal love<br>\\n</p>\\n</blockquote>\\n<blockquote style=\"border-left: 2px solid #00aaff; margin-left: 3px; padding-left: 1em; margin-top: 0px; margin-bottom: 0px;\"><p><span style=\"color:#00AAFF;\">&#29238;</span><span style=\"color:#00AAFF;\"><b>&#24859;</b></span><br>\\n<span style=\"font-weight:600;\">f&#249;\\'</span><b>&#224;i</b><br>\\npaternal love<br>\\n</p>\\n</blockquote>\\n<blockquote style=\"border-left: 2px solid #00aaff; margin-left: 3px; padding-left: 1em; margin-top: 0px; margin-bottom: 0px;\"><p><span style=\"color:#00AAFF;\">&#22827;&#22971;&#20043;</span><span style=\"color:#00AAFF;\"><b>&#24859;</b></span><br>\\n<span style=\"font-weight:600;\">f&#363;q&#299; zh&#299; </span><b>&#224;i</b><br>\\nconjugal love<br>\\n</p>\\n</blockquote>\\n<blockquote style=\"border-left: 2px solid #00aaff; margin-left: 3px; padding-left: 1em; margin-top: 0px; margin-bottom: 0px;\"><p><span style=\"color:#00AAFF;\">&#29378;&#29105;&#30340;</span><span style=\"color:#00AAFF;\"><b>&#24859;</b></span><br>\\n<span style=\"font-weight:600;\">ku&#225;ngr&#232; de\\'</span><b>&#224;i</b><br>\\nwild love; madly in love<br>\\n</p>\\n</blockquote>\\n<blockquote style=\"border-left: 2px solid #00aaff; margin-left: 3px; padding-left: 1em; margin-top: 0px; margin-bottom: 0px;\"><p><span style=\"color:#00AAFF;\">&#25226;</span><span style=\"color:#00AAFF;\"><b>&#24859;</b></span><span style=\"color:#00AAFF;\">&#20670;&#27880;&#22312;&#23401;&#23376;&#36523;&#19978;</span><br>\\n<span style=\"font-weight:600;\">b&#462; </span><b>&#224;i</b><span style=\"font-weight:600;\"> q&#299;ngzh&#249; z&#224;i h&#225;izi sh&#275;nshang</span><br>\\nheap affection on one&#8217;s child; smother one&#8217;s child with love<br>\\n</p>\\n</blockquote>\\n<p><br>\\n<b><span style=\"font-size:0.80em;\"><span style=\"color:#B4B4B4;\">VERB</span></span></b><br>\\n<b>1&#9;</b>love<br>\\n</p>\\n<blockquote style=\"border-left: 2px solid #00aaff; margin-left: 3px; padding-left: 1em; margin-top: 0px; margin-bottom: 0px;\"><p><b><span style=\"color:#00AAFF;\">&#24859;</span></b><span style=\"color:#00AAFF;\">&#21644;&#24179;</span><br>\\n<b>&#224;i</b><span style=\"font-weight:600;\"> h&#233;p&#237;ng</span><br>\\nlove peace; peace-loving<br>\\n</p>\\n</blockquote>\\n<blockquote style=\"border-left: 2px solid #00aaff; margin-left: 3px; padding-left: 1em; margin-top: 0px; margin-bottom: 0px;\"><p><b><span style=\"color:#00AAFF;\">&#24859;</span></b><span style=\"color:#00AAFF;\">&#31062;&#22283;</span><br>\\n<b>&#192;i</b><span style=\"font-weight:600;\"> z&#468;gu&#243;</span><br>\\nlove one&#8217;s country<br>\\n</p>\\n</blockquote>\\n<blockquote style=\"border-left: 2px solid #00aaff; margin-left: 3px; padding-left: 1em; margin-top: 0px; margin-bottom: 0px;\"><p><span style=\"color:#00AAFF;\">&#28346;</span><span style=\"color:#00AAFF;\"><b>&#24859;</b></span><span style=\"color:#00AAFF;\">&#23401;&#23376;</span><br>\\n<span style=\"font-weight:600;\">n&#236;\\'</span><b>&#224;i</b><span style=\"font-weight:600;\"> h&#225;izi</span><br>\\ndote on one&#8217;s children; spoil a child<br>\\n</p>\\n</blockquote>\\n<p><b>2&#9;</b>like; fond of; keen on<br>\\n</p>\\n<blockquote style=\"border-left: 2px solid #00aaff; margin-left: 3px; padding-left: 1em; margin-top: 0px; margin-bottom: 0px;\"><p><b><span style=\"color:#00AAFF;\">&#24859;</span></b><span style=\"color:#00AAFF;\">&#19979;&#26827;</span><br>\\n<b>&#224;i</b><span style=\"font-weight:600;\"> xi&#224;q&#237;</span><br>\\nkeen on chess<br>\\n</p>\\n</blockquote>\\n<blockquote style=\"border-left: 2px solid #00aaff; margin-left: 3px; padding-left: 1em; margin-top: 0px; margin-bottom: 0px;\"><p><b><span style=\"color:#00AAFF;\">&#24859;</span></b><span style=\"color:#00AAFF;\">&#20986;&#39080;&#38957;</span><br>\\n<b>&#224;i</b><span style=\"font-weight:600;\"> ch&#363; f&#275;ngtou</span><br>\\nfond of the limelight; like attention<br>\\n</p>\\n</blockquote>\\n<blockquote style=\"border-left: 2px solid #00aaff; margin-left: 3px; padding-left: 1em; margin-top: 0px; margin-bottom: 0px;\"><p><span style=\"color:#00AAFF;\">&#37239;</span><span style=\"color:#00AAFF;\"><b>&#24859;</b></span><br>\\n<span style=\"font-weight:600;\">k&#249;\\'</span><b>&#224;i</b><br>\\nhave an excessive fondness of; dead keen on<br>\\n</p>\\n</blockquote>\\n<blockquote style=\"border-left: 2px solid #00aaff; margin-left: 3px; padding-left: 1em; margin-top: 0px; margin-bottom: 0px;\"><p><span style=\"color:#00AAFF;\">&#21482;</span><span style=\"color:#00AAFF;\"><b>&#24859;</b></span><span style=\"color:#00AAFF;\">&#32893;&#24685;&#32173;&#35441;, &#19981;</span><span style=\"color:#00AAFF;\"><b>&#24859;</b></span><span style=\"color:#00AAFF;\">&#32893;&#25209;&#35413;&#35441;</span><br>\\n<span style=\"font-weight:600;\">Zh&#464; </span><b>&#224;i</b><span style=\"font-weight:600;\"> t&#299;ng g&#333;ngweihu&#224;, b&#249; </span><b>&#224;i</b><span style=\"font-weight:600;\"> t&#299;ng p&#299;p&#237;ng hu&#224;.</span><br>\\nfond of flattery but deaf to criticism<br>\\n</p>\\n</blockquote>\\n<blockquote style=\"border-left: 2px solid #00aaff; margin-left: 3px; padding-left: 1em; margin-top: 0px; margin-bottom: 0px;\"><p><span style=\"color:#00AAFF;\">&#25105;&#19981;</span><span style=\"color:#00AAFF;\"><b>&#24859;</b></span><span style=\"color:#00AAFF;\">&#36319;&#20182;&#20358;&#24448;&#12290;</span><br>\\n<span style=\"font-weight:600;\">W&#466; b&#249; </span><b>&#224;i</b><span style=\"font-weight:600;\"> g&#275;n t&#257; l&#225;iw&#462;ng.</span><br>\\nI don&#8217;t like having anything to do with him.<br>\\n</p>\\n</blockquote>\\n<p><b>3&#9;</b>cherish; treasure; hold dear; take good care of<br>\\n</p>\\n<blockquote style=\"border-left: 2px solid #00aaff; margin-left: 3px; padding-left: 1em; margin-top: 0px; margin-bottom: 0px;\"><p><b><span style=\"color:#00AAFF;\">&#24859;</span></b><span style=\"color:#00AAFF;\">&#20844;&#29289;</span><br>\\n<b>&#192;i</b><span style=\"font-weight:600;\"> g&#333;ngw&#249;</span><br>\\nlook after public property<br>\\n</p>\\n</blockquote>\\n<blockquote style=\"border-left: 2px solid #00aaff; margin-left: 3px; padding-left: 1em; margin-top: 0px; margin-bottom: 0px;\"><p><b><span style=\"color:#00AAFF;\">&#24859;</span></b><span style=\"color:#00AAFF;\">&#24288;&#22914;&#23478;</span><br>\\n<b>&#224;i</b><span style=\"font-weight:600;\">ch&#462;ngr&#250;ji&#257;</span><br>\\ntreat the factory like one&#8217;s family<br>\\n</p>\\n</blockquote>\\n<blockquote style=\"border-left: 2px solid #00aaff; margin-left: 3px; padding-left: 1em; margin-top: 0px; margin-bottom: 0px;\"><p><b><span style=\"color:#00AAFF;\">&#24859;</span></b><span style=\"color:#00AAFF;\">&#38598;&#39636;&#27054;&#35709;</span><br>\\n<b>&#224;i</b><span style=\"font-weight:600;\"> j&#237;t&#464; r&#243;ngy&#249;</span><br>\\ncherish the good name of the group<br>\\n</p>\\n</blockquote>\\n<p><b>4&#9;</b>apt to; in the habit of<br>\\n</p>\\n<blockquote style=\"border-left: 2px solid #00aaff; margin-left: 3px; padding-left: 1em; margin-top: 0px; margin-bottom: 0px;\"><p><b><span style=\"color:#00AAFF;\">&#24859;</span></b><span style=\"color:#00AAFF;\">&#38957;&#30140;</span><br>\\n<b>&#224;i</b><span style=\"font-weight:600;\"> t&#243;ut&#233;ng</span><br>\\noften get headaches; prone to headaches<br>\\n</p>\\n</blockquote>\\n<blockquote style=\"border-left: 2px solid #00aaff; margin-left: 3px; padding-left: 1em; margin-top: 0px; margin-bottom: 0px;\"><p><b><span style=\"color:#00AAFF;\">&#24859;</span></b><span style=\"color:#00AAFF;\">&#26248;&#36554;</span><br>\\n<b>&#224;i</b><span style=\"font-weight:600;\"> y&#249;nch&#275;</span><br>\\nget carsick<br>\\n</p>\\n</blockquote>\\n<blockquote style=\"border-left: 2px solid #00aaff; margin-left: 3px; padding-left: 1em; margin-top: 0px; margin-bottom: 0px;\"><p><b><span style=\"color:#00AAFF;\">&#24859;</span></b><span style=\"color:#00AAFF;\">&#30332;&#33086;&#27683;</span><br>\\n<b>&#224;i</b><span style=\"font-weight:600;\"> f&#257; p&#237;qi</span><br>\\nirritable; short-tempered<br>\\n</p>\\n</blockquote>\\n<blockquote style=\"border-left: 2px solid #00aaff; margin-left: 3px; padding-left: 1em; margin-top: 0px; margin-bottom: 0px;\"><p><span style=\"color:#00AAFF;\">&#19981;</span><span style=\"color:#00AAFF;\"><b>&#24859;</b></span><span style=\"color:#00AAFF;\">&#35463;&#20154;</span><br>\\n<span style=\"font-weight:600;\">b&#249; </span><b>&#224;i</b><span style=\"font-weight:600;\"> ku&#257; r&#233;n</span><br>\\nseldom praise others<br>\\n</p>\\n</blockquote>\\n<blockquote style=\"border-left: 2px solid #00aaff; margin-left: 3px; padding-left: 1em; margin-top: 0px; margin-bottom: 0px;\"><p><span style=\"color:#00AAFF;\">&#37941;</span><span style=\"color:#00AAFF;\"><b>&#24859;</b></span><span style=\"color:#00AAFF;\">&#29983;&#37885;&#12290;</span><br>\\n<span style=\"font-weight:600;\">Ti&#283; </span><b>&#224;i</b><span style=\"font-weight:600;\"> sh&#275;ngxi&#249;.</span><br>\\nIron rusts easily.</p>\\n</blockquote>\\n</div><plecoentry c=\"00000000\" d=\"50414345\" e=\"0100bb00\" x=\"-1\"/>': 'Back'}"
      ]
     },
     "execution_count": 107,
     "metadata": {},
     "output_type": "execute_result"
    }
   ],
   "source": [
    "list(apkg.db.Notes)[0].data"
   ]
  },
  {
   "cell_type": "code",
   "execution_count": null,
   "id": "fcb2f72b",
   "metadata": {},
   "outputs": [],
   "source": []
  },
  {
   "cell_type": "code",
   "execution_count": null,
   "id": "4c88787d",
   "metadata": {},
   "outputs": [],
   "source": []
  },
  {
   "cell_type": "code",
   "execution_count": null,
   "id": "df111de3",
   "metadata": {},
   "outputs": [],
   "source": []
  },
  {
   "cell_type": "code",
   "execution_count": null,
   "id": "647ebaaf",
   "metadata": {},
   "outputs": [],
   "source": []
  },
  {
   "cell_type": "code",
   "execution_count": 82,
   "id": "6953495b",
   "metadata": {},
   "outputs": [],
   "source": [
    "apkg = Anki20(f\"{experiement_folder}\\\\collection.anki2\")"
   ]
  },
  {
   "cell_type": "code",
   "execution_count": null,
   "id": "7d1d4584",
   "metadata": {},
   "outputs": [],
   "source": []
  },
  {
   "cell_type": "code",
   "execution_count": null,
   "id": "cf9f2e4b",
   "metadata": {},
   "outputs": [],
   "source": []
  },
  {
   "cell_type": "code",
   "execution_count": 96,
   "id": "d012ab14",
   "metadata": {},
   "outputs": [],
   "source": [
    "apkg = Anki20(f\"{experiement_folder}\\\\collection.anki2\")"
   ]
  },
  {
   "cell_type": "code",
   "execution_count": 97,
   "id": "42f905d1",
   "metadata": {},
   "outputs": [],
   "source": [
    "notes = list(apkg.db.Notes)"
   ]
  },
  {
   "cell_type": "code",
   "execution_count": 98,
   "id": "c03b2196",
   "metadata": {},
   "outputs": [],
   "source": [
    "n = notes[0]"
   ]
  },
  {
   "cell_type": "code",
   "execution_count": 99,
   "id": "b0e06b00",
   "metadata": {
    "scrolled": true
   },
   "outputs": [
    {
     "data": {
      "text/plain": [
       "{'愛': 'Front',\n",
       " '<div align=\"left\"><p><span style=\"font-size:32px\";>&#24859;&#12308;&#29233;&#12309;</span><br>\\n<span style=\"color:#B4B4B4;\"><b><span style=\"font-size:0.80em;\">PY </span></b></span><span style=\"color:#DF80FF;\"><span style=\"font-weight:600;\">&#224;i</span></span></p>\\n</div><div align=\"left\"><p><b><span style=\"font-size:0.80em;\"><span style=\"color:#B4B4B4;\">NOUN</span></span></b><br>\\nlove; affection<br>\\n</p>\\n<blockquote style=\"border-left: 2px solid #00aaff; margin-left: 3px; padding-left: 1em; margin-top: 0px; margin-bottom: 0px;\"><p><span style=\"color:#00AAFF;\">&#27597;</span><span style=\"color:#00AAFF;\"><b>&#24859;</b></span><br>\\n<span style=\"font-weight:600;\">m&#468;\\'</span><b>&#224;i</b><br>\\nmaternal love<br>\\n</p>\\n</blockquote>\\n<blockquote style=\"border-left: 2px solid #00aaff; margin-left: 3px; padding-left: 1em; margin-top: 0px; margin-bottom: 0px;\"><p><span style=\"color:#00AAFF;\">&#29238;</span><span style=\"color:#00AAFF;\"><b>&#24859;</b></span><br>\\n<span style=\"font-weight:600;\">f&#249;\\'</span><b>&#224;i</b><br>\\npaternal love<br>\\n</p>\\n</blockquote>\\n<blockquote style=\"border-left: 2px solid #00aaff; margin-left: 3px; padding-left: 1em; margin-top: 0px; margin-bottom: 0px;\"><p><span style=\"color:#00AAFF;\">&#22827;&#22971;&#20043;</span><span style=\"color:#00AAFF;\"><b>&#24859;</b></span><br>\\n<span style=\"font-weight:600;\">f&#363;q&#299; zh&#299; </span><b>&#224;i</b><br>\\nconjugal love<br>\\n</p>\\n</blockquote>\\n<blockquote style=\"border-left: 2px solid #00aaff; margin-left: 3px; padding-left: 1em; margin-top: 0px; margin-bottom: 0px;\"><p><span style=\"color:#00AAFF;\">&#29378;&#29105;&#30340;</span><span style=\"color:#00AAFF;\"><b>&#24859;</b></span><br>\\n<span style=\"font-weight:600;\">ku&#225;ngr&#232; de\\'</span><b>&#224;i</b><br>\\nwild love; madly in love<br>\\n</p>\\n</blockquote>\\n<blockquote style=\"border-left: 2px solid #00aaff; margin-left: 3px; padding-left: 1em; margin-top: 0px; margin-bottom: 0px;\"><p><span style=\"color:#00AAFF;\">&#25226;</span><span style=\"color:#00AAFF;\"><b>&#24859;</b></span><span style=\"color:#00AAFF;\">&#20670;&#27880;&#22312;&#23401;&#23376;&#36523;&#19978;</span><br>\\n<span style=\"font-weight:600;\">b&#462; </span><b>&#224;i</b><span style=\"font-weight:600;\"> q&#299;ngzh&#249; z&#224;i h&#225;izi sh&#275;nshang</span><br>\\nheap affection on one&#8217;s child; smother one&#8217;s child with love<br>\\n</p>\\n</blockquote>\\n<p><br>\\n<b><span style=\"font-size:0.80em;\"><span style=\"color:#B4B4B4;\">VERB</span></span></b><br>\\n<b>1&#9;</b>love<br>\\n</p>\\n<blockquote style=\"border-left: 2px solid #00aaff; margin-left: 3px; padding-left: 1em; margin-top: 0px; margin-bottom: 0px;\"><p><b><span style=\"color:#00AAFF;\">&#24859;</span></b><span style=\"color:#00AAFF;\">&#21644;&#24179;</span><br>\\n<b>&#224;i</b><span style=\"font-weight:600;\"> h&#233;p&#237;ng</span><br>\\nlove peace; peace-loving<br>\\n</p>\\n</blockquote>\\n<blockquote style=\"border-left: 2px solid #00aaff; margin-left: 3px; padding-left: 1em; margin-top: 0px; margin-bottom: 0px;\"><p><b><span style=\"color:#00AAFF;\">&#24859;</span></b><span style=\"color:#00AAFF;\">&#31062;&#22283;</span><br>\\n<b>&#192;i</b><span style=\"font-weight:600;\"> z&#468;gu&#243;</span><br>\\nlove one&#8217;s country<br>\\n</p>\\n</blockquote>\\n<blockquote style=\"border-left: 2px solid #00aaff; margin-left: 3px; padding-left: 1em; margin-top: 0px; margin-bottom: 0px;\"><p><span style=\"color:#00AAFF;\">&#28346;</span><span style=\"color:#00AAFF;\"><b>&#24859;</b></span><span style=\"color:#00AAFF;\">&#23401;&#23376;</span><br>\\n<span style=\"font-weight:600;\">n&#236;\\'</span><b>&#224;i</b><span style=\"font-weight:600;\"> h&#225;izi</span><br>\\ndote on one&#8217;s children; spoil a child<br>\\n</p>\\n</blockquote>\\n<p><b>2&#9;</b>like; fond of; keen on<br>\\n</p>\\n<blockquote style=\"border-left: 2px solid #00aaff; margin-left: 3px; padding-left: 1em; margin-top: 0px; margin-bottom: 0px;\"><p><b><span style=\"color:#00AAFF;\">&#24859;</span></b><span style=\"color:#00AAFF;\">&#19979;&#26827;</span><br>\\n<b>&#224;i</b><span style=\"font-weight:600;\"> xi&#224;q&#237;</span><br>\\nkeen on chess<br>\\n</p>\\n</blockquote>\\n<blockquote style=\"border-left: 2px solid #00aaff; margin-left: 3px; padding-left: 1em; margin-top: 0px; margin-bottom: 0px;\"><p><b><span style=\"color:#00AAFF;\">&#24859;</span></b><span style=\"color:#00AAFF;\">&#20986;&#39080;&#38957;</span><br>\\n<b>&#224;i</b><span style=\"font-weight:600;\"> ch&#363; f&#275;ngtou</span><br>\\nfond of the limelight; like attention<br>\\n</p>\\n</blockquote>\\n<blockquote style=\"border-left: 2px solid #00aaff; margin-left: 3px; padding-left: 1em; margin-top: 0px; margin-bottom: 0px;\"><p><span style=\"color:#00AAFF;\">&#37239;</span><span style=\"color:#00AAFF;\"><b>&#24859;</b></span><br>\\n<span style=\"font-weight:600;\">k&#249;\\'</span><b>&#224;i</b><br>\\nhave an excessive fondness of; dead keen on<br>\\n</p>\\n</blockquote>\\n<blockquote style=\"border-left: 2px solid #00aaff; margin-left: 3px; padding-left: 1em; margin-top: 0px; margin-bottom: 0px;\"><p><span style=\"color:#00AAFF;\">&#21482;</span><span style=\"color:#00AAFF;\"><b>&#24859;</b></span><span style=\"color:#00AAFF;\">&#32893;&#24685;&#32173;&#35441;, &#19981;</span><span style=\"color:#00AAFF;\"><b>&#24859;</b></span><span style=\"color:#00AAFF;\">&#32893;&#25209;&#35413;&#35441;</span><br>\\n<span style=\"font-weight:600;\">Zh&#464; </span><b>&#224;i</b><span style=\"font-weight:600;\"> t&#299;ng g&#333;ngweihu&#224;, b&#249; </span><b>&#224;i</b><span style=\"font-weight:600;\"> t&#299;ng p&#299;p&#237;ng hu&#224;.</span><br>\\nfond of flattery but deaf to criticism<br>\\n</p>\\n</blockquote>\\n<blockquote style=\"border-left: 2px solid #00aaff; margin-left: 3px; padding-left: 1em; margin-top: 0px; margin-bottom: 0px;\"><p><span style=\"color:#00AAFF;\">&#25105;&#19981;</span><span style=\"color:#00AAFF;\"><b>&#24859;</b></span><span style=\"color:#00AAFF;\">&#36319;&#20182;&#20358;&#24448;&#12290;</span><br>\\n<span style=\"font-weight:600;\">W&#466; b&#249; </span><b>&#224;i</b><span style=\"font-weight:600;\"> g&#275;n t&#257; l&#225;iw&#462;ng.</span><br>\\nI don&#8217;t like having anything to do with him.<br>\\n</p>\\n</blockquote>\\n<p><b>3&#9;</b>cherish; treasure; hold dear; take good care of<br>\\n</p>\\n<blockquote style=\"border-left: 2px solid #00aaff; margin-left: 3px; padding-left: 1em; margin-top: 0px; margin-bottom: 0px;\"><p><b><span style=\"color:#00AAFF;\">&#24859;</span></b><span style=\"color:#00AAFF;\">&#20844;&#29289;</span><br>\\n<b>&#192;i</b><span style=\"font-weight:600;\"> g&#333;ngw&#249;</span><br>\\nlook after public property<br>\\n</p>\\n</blockquote>\\n<blockquote style=\"border-left: 2px solid #00aaff; margin-left: 3px; padding-left: 1em; margin-top: 0px; margin-bottom: 0px;\"><p><b><span style=\"color:#00AAFF;\">&#24859;</span></b><span style=\"color:#00AAFF;\">&#24288;&#22914;&#23478;</span><br>\\n<b>&#224;i</b><span style=\"font-weight:600;\">ch&#462;ngr&#250;ji&#257;</span><br>\\ntreat the factory like one&#8217;s family<br>\\n</p>\\n</blockquote>\\n<blockquote style=\"border-left: 2px solid #00aaff; margin-left: 3px; padding-left: 1em; margin-top: 0px; margin-bottom: 0px;\"><p><b><span style=\"color:#00AAFF;\">&#24859;</span></b><span style=\"color:#00AAFF;\">&#38598;&#39636;&#27054;&#35709;</span><br>\\n<b>&#224;i</b><span style=\"font-weight:600;\"> j&#237;t&#464; r&#243;ngy&#249;</span><br>\\ncherish the good name of the group<br>\\n</p>\\n</blockquote>\\n<p><b>4&#9;</b>apt to; in the habit of<br>\\n</p>\\n<blockquote style=\"border-left: 2px solid #00aaff; margin-left: 3px; padding-left: 1em; margin-top: 0px; margin-bottom: 0px;\"><p><b><span style=\"color:#00AAFF;\">&#24859;</span></b><span style=\"color:#00AAFF;\">&#38957;&#30140;</span><br>\\n<b>&#224;i</b><span style=\"font-weight:600;\"> t&#243;ut&#233;ng</span><br>\\noften get headaches; prone to headaches<br>\\n</p>\\n</blockquote>\\n<blockquote style=\"border-left: 2px solid #00aaff; margin-left: 3px; padding-left: 1em; margin-top: 0px; margin-bottom: 0px;\"><p><b><span style=\"color:#00AAFF;\">&#24859;</span></b><span style=\"color:#00AAFF;\">&#26248;&#36554;</span><br>\\n<b>&#224;i</b><span style=\"font-weight:600;\"> y&#249;nch&#275;</span><br>\\nget carsick<br>\\n</p>\\n</blockquote>\\n<blockquote style=\"border-left: 2px solid #00aaff; margin-left: 3px; padding-left: 1em; margin-top: 0px; margin-bottom: 0px;\"><p><b><span style=\"color:#00AAFF;\">&#24859;</span></b><span style=\"color:#00AAFF;\">&#30332;&#33086;&#27683;</span><br>\\n<b>&#224;i</b><span style=\"font-weight:600;\"> f&#257; p&#237;qi</span><br>\\nirritable; short-tempered<br>\\n</p>\\n</blockquote>\\n<blockquote style=\"border-left: 2px solid #00aaff; margin-left: 3px; padding-left: 1em; margin-top: 0px; margin-bottom: 0px;\"><p><span style=\"color:#00AAFF;\">&#19981;</span><span style=\"color:#00AAFF;\"><b>&#24859;</b></span><span style=\"color:#00AAFF;\">&#35463;&#20154;</span><br>\\n<span style=\"font-weight:600;\">b&#249; </span><b>&#224;i</b><span style=\"font-weight:600;\"> ku&#257; r&#233;n</span><br>\\nseldom praise others<br>\\n</p>\\n</blockquote>\\n<blockquote style=\"border-left: 2px solid #00aaff; margin-left: 3px; padding-left: 1em; margin-top: 0px; margin-bottom: 0px;\"><p><span style=\"color:#00AAFF;\">&#37941;</span><span style=\"color:#00AAFF;\"><b>&#24859;</b></span><span style=\"color:#00AAFF;\">&#29983;&#37885;&#12290;</span><br>\\n<span style=\"font-weight:600;\">Ti&#283; </span><b>&#224;i</b><span style=\"font-weight:600;\"> sh&#275;ngxi&#249;.</span><br>\\nIron rusts easily.</p>\\n</blockquote>\\n</div><plecoentry c=\"00000000\" d=\"50414345\" e=\"0100bb00\" x=\"-1\"/>': 'Back'}"
      ]
     },
     "execution_count": 99,
     "metadata": {},
     "output_type": "execute_result"
    }
   ],
   "source": [
    "n.data"
   ]
  },
  {
   "cell_type": "code",
   "execution_count": 92,
   "id": "1aaa18d7",
   "metadata": {},
   "outputs": [],
   "source": [
    "n.data['愛_fake_data'] = \"Front\""
   ]
  },
  {
   "cell_type": "code",
   "execution_count": 93,
   "id": "4b7b669a",
   "metadata": {},
   "outputs": [
    {
     "data": {
      "text/plain": [
       "'Front'"
      ]
     },
     "execution_count": 93,
     "metadata": {},
     "output_type": "execute_result"
    }
   ],
   "source": [
    "n.data[\"Front\"]"
   ]
  },
  {
   "cell_type": "code",
   "execution_count": 90,
   "id": "daf0f54f",
   "metadata": {},
   "outputs": [
    {
     "data": {
      "text/plain": [
       "0"
      ]
     },
     "execution_count": 90,
     "metadata": {},
     "output_type": "execute_result"
    }
   ],
   "source": [
    "n.save()"
   ]
  },
  {
   "cell_type": "code",
   "execution_count": 24,
   "id": "c5997269",
   "metadata": {},
   "outputs": [
    {
     "data": {
      "text/plain": [
       "'{}'"
      ]
     },
     "execution_count": 24,
     "metadata": {},
     "output_type": "execute_result"
    }
   ],
   "source": [
    "list(apkg.db.Cards)[0].data"
   ]
  },
  {
   "cell_type": "code",
   "execution_count": 27,
   "id": "92f490c6",
   "metadata": {},
   "outputs": [
    {
     "data": {
      "text/plain": [
       "1669412005070"
      ]
     },
     "execution_count": 27,
     "metadata": {},
     "output_type": "execute_result"
    }
   ],
   "source": [
    "n.mid"
   ]
  },
  {
   "cell_type": "code",
   "execution_count": 95,
   "id": "daf2c62f",
   "metadata": {},
   "outputs": [],
   "source": [
    "apkg.close()"
   ]
  },
  {
   "cell_type": "code",
   "execution_count": null,
   "id": "7d84787d",
   "metadata": {},
   "outputs": [],
   "source": []
  },
  {
   "cell_type": "code",
   "execution_count": null,
   "id": "eddd3852",
   "metadata": {},
   "outputs": [],
   "source": []
  },
  {
   "cell_type": "code",
   "execution_count": null,
   "id": "c74bad44",
   "metadata": {},
   "outputs": [],
   "source": []
  },
  {
   "cell_type": "code",
   "execution_count": 70,
   "id": "9fb847df",
   "metadata": {},
   "outputs": [],
   "source": [
    "from ankisync2 import Apkg\n",
    "apkg = Apkg(\"all_decks.apkg\")"
   ]
  },
  {
   "cell_type": "code",
   "execution_count": 79,
   "id": "04a7a3b1",
   "metadata": {},
   "outputs": [
    {
     "data": {
      "text/plain": [
       "{'爱': 'Simplified',\n",
       " '愛': 'Traditional',\n",
       " '<span class=\"tone4\">ài</span>': 'Pinyin',\n",
       " '<ol><li>to love</li> <li>affection</li> <li>to be fond of</li> <li>to like</li></ol>': 'English'}"
      ]
     },
     "execution_count": 79,
     "metadata": {},
     "output_type": "execute_result"
    }
   ],
   "source": [
    "list(apkg.db.Notes)[0].data"
   ]
  },
  {
   "cell_type": "code",
   "execution_count": null,
   "id": "2e39cb03",
   "metadata": {},
   "outputs": [],
   "source": []
  }
 ],
 "metadata": {
  "kernelspec": {
   "display_name": "Python 3 (ipykernel)",
   "language": "python",
   "name": "python3"
  },
  "language_info": {
   "codemirror_mode": {
    "name": "ipython",
    "version": 3
   },
   "file_extension": ".py",
   "mimetype": "text/x-python",
   "name": "python",
   "nbconvert_exporter": "python",
   "pygments_lexer": "ipython3",
   "version": "3.7.9"
  }
 },
 "nbformat": 4,
 "nbformat_minor": 5
}
